{
  "nbformat": 4,
  "nbformat_minor": 0,
  "metadata": {
    "colab": {
      "name": "kmeans_clustering.ipynb",
      "provenance": [],
      "collapsed_sections": [],
      "authorship_tag": "ABX9TyP2GT3YBhrRcMnkWm3weJ6/",
      "include_colab_link": true
    },
    "kernelspec": {
      "name": "python3",
      "display_name": "Python 3"
    }
  },
  "cells": [
    {
      "cell_type": "markdown",
      "metadata": {
        "id": "view-in-github",
        "colab_type": "text"
      },
      "source": [
        "<a href=\"https://colab.research.google.com/github/vbipin/aip/blob/master/kmeans_clustering.ipynb\" target=\"_parent\"><img src=\"https://colab.research.google.com/assets/colab-badge.svg\" alt=\"Open In Colab\"/></a>"
      ]
    },
    {
      "cell_type": "code",
      "metadata": {
        "id": "ozi5i4Q2YVAO",
        "colab_type": "code",
        "colab": {}
      },
      "source": [
        "\"\"\"\n",
        "In this notebook we create a simple kmeans algorithm for 2d points.\n",
        "This is mainly for understanding the algorithm itself.\n",
        "\"\"\"\n",
        "%matplotlib inline\n",
        "\n",
        "import matplotlib\n",
        "import numpy as np\n",
        "import matplotlib.pyplot as plt"
      ],
      "execution_count": 1,
      "outputs": []
    },
    {
      "cell_type": "code",
      "metadata": {
        "id": "HxjtY1PXYi9E",
        "colab_type": "code",
        "colab": {}
      },
      "source": [
        "import random\n",
        "from collections import defaultdict\n",
        "\n",
        "\n",
        "def init_cluster_centers( X, k) :\n",
        "    \"\"\"From the data points in X selcts k points randomly as intial center points\"\"\"\n",
        "    cluster_centers = random.sample( X, k )\n",
        "    return cluster_centers\n",
        "\n",
        "#find the distance from cluster centers to all the points.\n",
        "def distance_to_cluster_centers(X, cluster_centers) :\n",
        "    \"\"\"We return a list of lists\"\"\"\n",
        "    #list[0] is the distance to all the centers for point 0, list[1] of X[1]...\n",
        "    return [ [ euclidean(c, x) for c in cluster_centers] for x in X ]\n",
        "\n",
        "\n",
        "def cluster_mean( list_of_points ) :\n",
        "    \"\"\"we assume 2d points\"\"\"\n",
        "    N = len(list_of_points)\n",
        "    x_mean = sum([p[0] for p in list_of_points])/N #summing up the x dimention and divide by N\n",
        "    y_mean = sum([p[1] for p in list_of_points])/N\n",
        "    return x_mean, y_mean\n",
        "\n",
        "#This is one iteration of the loop of the algorithm\n",
        "#we need to run this many times until convergence\n",
        "def kmeans_iteration( X, cluster_centers, debug=True ) :\n",
        "    \"\"\"One iterationof the kmeans loop; return new_center_points\"\"\"\n",
        "    \n",
        "    #for each point we find the distance to all the centers. (list of list)\n",
        "    distance_list = distance_to_cluster_centers(X, cluster_centers)\n",
        "    \n",
        "    #We are finding which center the point is nearest to. \n",
        "    #dlist.index(min(dlist)) ->\n",
        "    #  here dlist has the distance of a single point to all the cluster centers\n",
        "    #  min(dlist) gives the shortest distance; \n",
        "    #  dlist.index(...) gives the index of the cluster that min value belongs.\n",
        "    #we just store the index of the cluster\n",
        "    #the center_idx has as many elements as in X\n",
        "    center_idx = [ dlist.index(min(dlist)) for dlist in distance_list ]\n",
        "    \n",
        "    #here we create a dictionary that maps center-index to the list of points\n",
        "    # eg: { 0:[p1,p3,p4], 1:[p2,p5]}\n",
        "    clusters = defaultdict(list)\n",
        "    for i,c in enumerate(center_idx) : #i is the index of the point, c is the index of its nearest cluster center.\n",
        "        clusters[c].append(X[i]) #for each cluster index, add the point\n",
        "    \n",
        "    if debug :  #only when we are debugging\n",
        "        #plot all the clusters\n",
        "        plot_clusters(clusters)\n",
        "        #plot the center means\n",
        "        plot_cluster_centers( cluster_centers )\n",
        "        plt.show()\n",
        "    \n",
        "    #Now we need to calculate the new center points by averaging each cluster (taking mean)\n",
        "    cluster_centers = [ cluster_mean(clusters[c]) for c in clusters ]\n",
        "    \n",
        "    \n",
        "    return cluster_centers, clusters\n",
        "\n",
        "\n",
        "\n",
        "#this is a sample distance function\n",
        "def euclidean(a,b) :\n",
        "    #return math.sqrt( (a[0]-b[0])**2 + (a[1]-b[1])**2  )\n",
        "    return np.linalg.norm(np.array(a)-np.array(b))\n",
        "\n",
        "#some utils for plotting\n",
        "#ref: https://python-graph-gallery.com/131-custom-a-matplotlib-scatterplot/\n",
        "#ref: https://matplotlib.org/3.3.0/tutorials/introductory/pyplot.html#sphx-glr-tutorials-introductory-pyplot-py\n",
        "def plot_clusters( clusters ) :\n",
        "    \"\"\"clusters is a dict {0:[p,p,p], 1:[p,p]...}\"\"\"\n",
        "    #fig = plt.subplot()\n",
        "    for cluster in clusters.values() : #values are list of points\n",
        "        plot_2d( cluster)\n",
        "        \n",
        "def plot_cluster_centers( cluster_centers) :\n",
        "    #we show the cluster centers in black and as a triangle.\n",
        "    plot_2d( cluster_centers, 'black', '^')\n",
        "        \n",
        "def plot_2d( X, color=None, marker=None ) :\n",
        "    #data assumed to be 2d\n",
        "    x_values = [ t[0] for t in X] #take the x coordinates\n",
        "    y_values = [ t[1] for t in X] #take the y coordinates\n",
        "    if color :\n",
        "        plt.scatter(x_values, y_values, c=color, marker=marker)\n",
        "    else :\n",
        "        plt.scatter(x_values, y_values)"
      ],
      "execution_count": 10,
      "outputs": []
    },
    {
      "cell_type": "code",
      "metadata": {
        "id": "hmiNhzAOYo7H",
        "colab_type": "code",
        "colab": {
          "base_uri": "https://localhost:8080/",
          "height": 265
        },
        "outputId": "acb4d9b8-f680-45e4-9340-78aed61545a6"
      },
      "source": [
        "#Lets create some test data\n",
        "X = [(1,1), (2.5,1.5), (1,2.5),  (3,4), (3.5,3), (4,4), (2.5,3)]\n",
        "#X = [(1,1), (0.5,1.5), (1,2.5),  (3,4), (3.5,3), (4,4), (2.5,3), (2.5,5), (1,4)]\n",
        "\n",
        "#fig = plt.subplot()\n",
        "#plt.xlim(0,5) #set the range of x and y values of the plots\n",
        "#plt.ylim(0,5)\n",
        "plot_2d(X)"
      ],
      "execution_count": 21,
      "outputs": [
        {
          "output_type": "display_data",
          "data": {
            "image/png": "[encoded data removed]",
            "text/plain": [
              "<Figure size 432x288 with 1 Axes>"
            ]
          },
          "metadata": {
            "tags": [],
            "needs_background": "light"
          }
        }
      ]
    },
    {
      "cell_type": "code",
      "metadata": {
        "id": "ycSrIbTYYt-C",
        "colab_type": "code",
        "colab": {}
      },
      "source": [
        "#initialize random cluster centers\n",
        "cluster_centers = init_cluster_centers( X, k=2)\n",
        "\n",
        "#plot_2d(X)\n",
        "#plot_cluster_centers(cluster_centers) #initial centers will overlap with existing points"
      ],
      "execution_count": 22,
      "outputs": []
    },
    {
      "cell_type": "code",
      "metadata": {
        "id": "DP61wjV4Yw1g",
        "colab_type": "code",
        "colab": {
          "base_uri": "https://localhost:8080/",
          "height": 265
        },
        "outputId": "44868316-162d-4652-add2-b168f1fabbaa"
      },
      "source": [
        "#can run this cell many times until convergence\n",
        "#cluster centers are the black triangles. points are colored according to the current cluster they belong\n",
        "\n",
        "#plot_cluster_centers(cluster_centers)\n",
        "\n",
        "old_c = cluster_centers\n",
        "cluster_centers, clusters = kmeans_iteration(X, cluster_centers) #i have put the plotting inside the function for convenience \n",
        "\n",
        "#plot_clusters(clusters)"
      ],
      "execution_count": 23,
      "outputs": [
        {
          "output_type": "display_data",
          "data": {
            "image/png": "[encoded data removed]",
            "text/plain": [
              "<Figure size 432x288 with 1 Axes>"
            ]
          },
          "metadata": {
            "tags": [],
            "needs_background": "light"
          }
        }
      ]
    },
    {
      "cell_type": "code",
      "metadata": {
        "id": "26Zv6PQDYz4K",
        "colab_type": "code",
        "colab": {
          "base_uri": "https://localhost:8080/",
          "height": 34
        },
        "outputId": "4fcd0e3a-dcbc-43bf-a81f-54e4da29a1cd"
      },
      "source": [
        "#Are we done??\n",
        "cluster_centers == old_c\n",
        "\n",
        "#If not \n",
        "#   go back to iteration and run again"
      ],
      "execution_count": 24,
      "outputs": [
        {
          "output_type": "execute_result",
          "data": {
            "text/plain": [
              "False"
            ]
          },
          "metadata": {
            "tags": []
          },
          "execution_count": 24
        }
      ]
    },
    {
      "cell_type": "code",
      "metadata": {
        "id": "n0S-nrl1ZLCN",
        "colab_type": "code",
        "colab": {}
      },
      "source": [
        "#here is the loop as a function\n",
        "def kmeans_clustering( X ) :\n",
        "    \"\"\"returns the centers and clusters dictionary\"\"\"\n",
        "    #Initialize the center points\n",
        "    cluster_centers = init_cluster_centers( X, k=2)\n",
        "    \n",
        "    while True :\n",
        "        old_c = cluster_centers #take a backup\n",
        "        cluster_centers, clusters = kmeans_iteration(X, cluster_centers) #this is one iteration\n",
        "        \n",
        "        if old_c == cluster_centers :\n",
        "            break\n",
        "            \n",
        "    return cluster_centers, clusters"
      ],
      "execution_count": 25,
      "outputs": []
    },
    {
      "cell_type": "code",
      "metadata": {
        "id": "Da3Aqcj6ZQd2",
        "colab_type": "code",
        "colab": {
          "base_uri": "https://localhost:8080/",
          "height": 1000
        },
        "outputId": "bcaf72e7-dfed-4ba0-b24c-802dab86963c"
      },
      "source": [
        "c,a = kmeans_clustering( X )"
      ],
      "execution_count": 30,
      "outputs": [
        {
          "output_type": "display_data",
          "data": {
            "image/png": "[encoded data removed]",
            "text/plain": [
              "<Figure size 432x288 with 1 Axes>"
            ]
          },
          "metadata": {
            "tags": [],
            "needs_background": "light"
          }
        },
        {
          "output_type": "display_data",
          "data": {
            "image/png": "[encoded data removed]",
            "text/plain": [
              "<Figure size 432x288 with 1 Axes>"
            ]
          },
          "metadata": {
            "tags": [],
            "needs_background": "light"
          }
        },
        {
          "output_type": "display_data",
          "data": {
            "image/png": "[encoded data removed]",
            "text/plain": [
              "<Figure size 432x288 with 1 Axes>"
            ]
          },
          "metadata": {
            "tags": [],
            "needs_background": "light"
          }
        },
        {
          "output_type": "display_data",
          "data": {
            "image/png": "[encoded data removed]",
            "text/plain": [
              "<Figure size 432x288 with 1 Axes>"
            ]
          },
          "metadata": {
            "tags": [],
            "needs_background": "light"
          }
        }
      ]
    },
    {
      "cell_type": "code",
      "metadata": {
        "id": "e4PsApn0ZS4E",
        "colab_type": "code",
        "colab": {}
      },
      "source": [
        ""
      ],
      "execution_count": null,
      "outputs": []
    }
  ]
}