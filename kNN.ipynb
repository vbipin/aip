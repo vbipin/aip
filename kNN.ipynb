{
  "nbformat": 4,
  "nbformat_minor": 0,
  "metadata": {
    "colab": {
      "name": "kNN.ipynb",
      "provenance": [],
      "collapsed_sections": [],
      "authorship_tag": "ABX9TyM25JxQKyBf2KtexdSPKjjJ",
      "include_colab_link": true
    },
    "kernelspec": {
      "name": "python3",
      "display_name": "Python 3"
    }
  },
  "cells": [
    {
      "cell_type": "markdown",
      "metadata": {
        "id": "view-in-github",
        "colab_type": "text"
      },
      "source": [
        "<a href=\"https://colab.research.google.com/github/vbipin/aip/blob/master/kNN.ipynb\" target=\"_parent\"><img src=\"https://colab.research.google.com/assets/colab-badge.svg\" alt=\"Open In Colab\"/></a>"
      ]
    },
    {
      "cell_type": "code",
      "metadata": {
        "id": "6N3y11jW-XiA",
        "colab_type": "code",
        "colab": {}
      },
      "source": [
        "\"\"\"\n",
        "Let us implement a very simple kNN algorithm\n",
        "\"\"\"\n",
        "\n",
        "%matplotlib inline\n",
        "\n",
        "import matplotlib\n",
        "import numpy as np\n",
        "import matplotlib.pyplot as plt\n"
      ],
      "execution_count": 3,
      "outputs": []
    },
    {
      "cell_type": "code",
      "metadata": {
        "id": "tVUvh0nA-dJ8",
        "colab_type": "code",
        "colab": {}
      },
      "source": [
        "from collections import Counter\n",
        "import math\n",
        "\n",
        "#k-nearest-neighbor algorithm\n",
        "#function returns the predicted label of the datapoint u\n",
        "def knearest(u, X, Y, k=1, distance_f=None):\n",
        "    \"\"\" \n",
        "    u          data point to predict\n",
        "    X          Trainign data points\n",
        "    Y          Training data labels\n",
        "    k          (algorithm parameter k)\n",
        "    distance_f distance funtion to use\n",
        "    \n",
        "    Return\n",
        "    predicted label for u according to the kNN algorithm\n",
        "    \"\"\"\n",
        "    \n",
        "    #first we apply the edistance funtions from u to all available datapoints\n",
        "    #we also store the class labels along with the distance; this is helpful to get the labels after sorting.\n",
        "    distance = [ (distance_f(u,X[i]), Y[i]) for i in range(len(X)) ]\n",
        "    distance.sort()\n",
        "    \n",
        "    #print(distance[:k])\n",
        "    #we only want the first k labels, ( the above list has both distance and labels)\n",
        "    knear_labels = [t[1] for t in distance[:k]]\n",
        "    \n",
        "    #Now, we need to apply the voting and find out the label with the max vote\n",
        "    return voting(knear_labels)\n",
        "\n",
        "\n",
        "#this function takes a list of labels finds which label occured the max\n",
        "#eg: [ 0,1,1,0,0,2,2] -> ans 0\n",
        "def voting( knear_labels ) :\n",
        "    \"\"\"incoming are the labels; need to count and find the max\"\"\"\n",
        "    #ref: https://docs.python.org/2/library/collections.html#collections.Counter\n",
        "    #print(knear_labels)\n",
        "    count = Counter(knear_labels) #we use the counter to count the lables. { label : count }\n",
        "    \n",
        "    #Most common will return the elements sorted according to the count as a list\n",
        "    return count.most_common(1)[0][0] #[(label, n)] -> label\n",
        "    \n",
        "\n",
        "#this is a sample distance function\n",
        "def euclidean(a,b) :\n",
        "    #return math.sqrt( (a[0]-b[0])**2 + (a[1]-b[1])**2  ) #for 2d case\n",
        "    return np.linalg.norm(np.array(a)-np.array(b))        #for any d"
      ],
      "execution_count": 4,
      "outputs": []
    },
    {
      "cell_type": "code",
      "metadata": {
        "id": "Ztf7vw6w-rtt",
        "colab_type": "code",
        "colab": {}
      },
      "source": [
        "###################################################"
      ],
      "execution_count": 5,
      "outputs": []
    },
    {
      "cell_type": "code",
      "metadata": {
        "id": "putYBUVX-twx",
        "colab_type": "code",
        "colab": {
          "base_uri": "https://localhost:8080/",
          "height": 34
        },
        "outputId": "16d13bf7-ed54-4104-9dbb-2dbc89f27a7d"
      },
      "source": [
        "#Lets do some small testing\n",
        "\n",
        "X = [\n",
        "    (1,1), \n",
        "    (2,1), \n",
        "    (3,1), \n",
        "    (-1, -1), \n",
        "    (-2, -1), \n",
        "    (-3,-2)\n",
        "]\n",
        "\n",
        "Y = [ 1,1,1,0,0,0]\n",
        "\n",
        "u = (0.5, 0.5)\n",
        "\n",
        "c = knearest(u, X,Y, k=1, distance_f=euclidean )\n",
        "print(c)"
      ],
      "execution_count": 8,
      "outputs": [
        {
          "output_type": "stream",
          "text": [
            "1\n"
          ],
          "name": "stdout"
        }
      ]
    },
    {
      "cell_type": "code",
      "metadata": {
        "id": "Mi9DdkxxAk2I",
        "colab_type": "code",
        "colab": {}
      },
      "source": [
        "###################################################"
      ],
      "execution_count": null,
      "outputs": []
    },
    {
      "cell_type": "code",
      "metadata": {
        "id": "MssI085M-3GS",
        "colab_type": "code",
        "colab": {
          "base_uri": "https://localhost:8080/",
          "height": 51
        },
        "outputId": "b7f73842-1f71-432f-b5cf-4effe2c3e004"
      },
      "source": [
        "#Load a sample dataset from sklearn and check\n",
        "#ref: https://www.datacamp.com/community/tutorials/k-nearest-neighbor-classification-scikit-learn\n",
        "\n",
        "from sklearn import datasets\n",
        "wine = datasets.load_wine()\n",
        "\n",
        "#lets see how the data looks like\n",
        "print(wine.feature_names)\n",
        "print(wine.target_names)"
      ],
      "execution_count": 9,
      "outputs": [
        {
          "output_type": "stream",
          "text": [
            "['alcohol', 'malic_acid', 'ash', 'alcalinity_of_ash', 'magnesium', 'total_phenols', 'flavanoids', 'nonflavanoid_phenols', 'proanthocyanins', 'color_intensity', 'hue', 'od280/od315_of_diluted_wines', 'proline']\n",
            "['class_0' 'class_1' 'class_2']\n"
          ],
          "name": "stdout"
        }
      ]
    },
    {
      "cell_type": "code",
      "metadata": {
        "id": "L5xg9cBY_SNm",
        "colab_type": "code",
        "colab": {
          "base_uri": "https://localhost:8080/",
          "height": 34
        },
        "outputId": "54a22ef8-06fa-44ac-e2a1-ab6b3af9e398"
      },
      "source": [
        "from sklearn.model_selection import train_test_split\n",
        "#this may depend on the random numbers\n",
        "X_train, X_test, y_train, y_test = train_test_split(wine.data, wine.target, test_size=0.3) # 70% training and 30% test\n",
        "\n",
        "print(X_train.shape, X_test.shape, y_train.shape, y_test.shape)"
      ],
      "execution_count": 10,
      "outputs": [
        {
          "output_type": "stream",
          "text": [
            "(124, 13) (54, 13) (124,) (54,)\n"
          ],
          "name": "stdout"
        }
      ]
    },
    {
      "cell_type": "code",
      "metadata": {
        "id": "VzxWpLeg_ad0",
        "colab_type": "code",
        "colab": {
          "base_uri": "https://localhost:8080/",
          "height": 34
        },
        "outputId": "82b38c0a-1835-4815-f020-e6891cf6b7e4"
      },
      "source": [
        "#Import knearest neighbors Classifier model\n",
        "from sklearn.neighbors import KNeighborsClassifier\n",
        "\n",
        "#Create KNN Classifier\n",
        "knn = KNeighborsClassifier(n_neighbors=3) #, algorithm='ball_tree', leaf_size=7)\n",
        "\n",
        "#Train the model using the training sets\n",
        "knn.fit(X_train, y_train)\n",
        "\n",
        "#Predict the response for test dataset\n",
        "y_pred = knn.predict(X_test)\n",
        "\n",
        "#Import scikit-learn metrics module for accuracy calculation\n",
        "from sklearn import metrics\n",
        "# Model Accuracy, how often is the classifier correct?\n",
        "print(\"Accuracy:\",metrics.accuracy_score(y_test, y_pred))"
      ],
      "execution_count": 11,
      "outputs": [
        {
          "output_type": "stream",
          "text": [
            "Accuracy: 0.7592592592592593\n"
          ],
          "name": "stdout"
        }
      ]
    },
    {
      "cell_type": "code",
      "metadata": {
        "id": "jV1Dlu1g_deh",
        "colab_type": "code",
        "colab": {}
      },
      "source": [
        ""
      ],
      "execution_count": null,
      "outputs": []
    },
    {
      "cell_type": "code",
      "metadata": {
        "id": "QP3mEVbQ_euw",
        "colab_type": "code",
        "colab": {
          "base_uri": "https://localhost:8080/",
          "height": 51
        },
        "outputId": "1e35e42e-cd44-4366-fed8-dda3f70557ca"
      },
      "source": [
        "#Can we use our simple algorithm we coded above?\n",
        "u = X_test[0] #take just one data point from test set\n",
        "\n",
        "c = knearest(u, X_train, y_train, k=3, distance_f=euclidean )\n",
        "\n",
        "print(c)         #what did we predict\n",
        "print(y_test[i]) #what is the actual\n",
        "\n",
        "#Hum \n",
        "#Wrong prediction; It doent mean our algorithm is wrong\n"
      ],
      "execution_count": 20,
      "outputs": [
        {
          "output_type": "stream",
          "text": [
            "1\n",
            "2\n"
          ],
          "name": "stdout"
        }
      ]
    },
    {
      "cell_type": "code",
      "metadata": {
        "id": "69UUVaJS_mKR",
        "colab_type": "code",
        "colab": {
          "base_uri": "https://localhost:8080/",
          "height": 34
        },
        "outputId": "30e2310a-fb0b-438d-ae54-56b846372e1d"
      },
      "source": [
        "#Let us try on all the points\n",
        "count = 0\n",
        "for i in range(len(y_test)) :\n",
        "    c = knearest(X_test[i], X_train, y_train, k=3, distance_f=euclidean )\n",
        "    #print(y_test[i], c)\n",
        "    if (c == y_test[i]) :\n",
        "        count +=1\n",
        "        \n",
        "print (count/len(y_test))"
      ],
      "execution_count": 19,
      "outputs": [
        {
          "output_type": "stream",
          "text": [
            "0.7592592592592593\n"
          ],
          "name": "stdout"
        }
      ]
    },
    {
      "cell_type": "code",
      "metadata": {
        "id": "EWcEtQUc_nKR",
        "colab_type": "code",
        "colab": {}
      },
      "source": [
        "#Not bad"
      ],
      "execution_count": null,
      "outputs": []
    }
  ]
}