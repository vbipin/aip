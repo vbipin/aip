{
  "nbformat": 4,
  "nbformat_minor": 0,
  "metadata": {
    "colab": {
      "name": "regression.ipynb",
      "provenance": [],
      "collapsed_sections": [],
      "include_colab_link": true
    },
    "kernelspec": {
      "name": "python3",
      "display_name": "Python 3"
    }
  },
  "cells": [
    {
      "cell_type": "markdown",
      "metadata": {
        "id": "view-in-github",
        "colab_type": "text"
      },
      "source": [
        "<a href=\"https://colab.research.google.com/github/vbipin/aip/blob/master/regression.ipynb\" target=\"_parent\"><img src=\"https://colab.research.google.com/assets/colab-badge.svg\" alt=\"Open In Colab\"/></a>"
      ]
    },
    {
      "cell_type": "code",
      "metadata": {
        "id": "wFv79D09Hp5m",
        "colab_type": "code",
        "colab": {}
      },
      "source": [
        "%matplotlib inline\n",
        "\n",
        "import matplotlib\n",
        "import numpy as np\n",
        "import matplotlib.pyplot as plt\n",
        "import scipy.stats"
      ],
      "execution_count": 0,
      "outputs": []
    },
    {
      "cell_type": "code",
      "metadata": {
        "id": "NxdVhJnSHvSS",
        "colab_type": "code",
        "colab": {}
      },
      "source": [
        "#why did I mix scipy stats norm and numpy :(\n",
        "#happened. Sorry."
      ],
      "execution_count": 0,
      "outputs": []
    },
    {
      "cell_type": "code",
      "metadata": {
        "id": "SqgTg9TIH1q4",
        "colab_type": "code",
        "colab": {}
      },
      "source": [
        "#from sklearn.datasets import load_boston\n",
        "#from sklearn.linear_model import LinearRegression"
      ],
      "execution_count": 0,
      "outputs": []
    },
    {
      "cell_type": "code",
      "metadata": {
        "id": "TPmWVOrUH6SQ",
        "colab_type": "code",
        "colab": {}
      },
      "source": [
        "#lets prepare some sample dummy data\n",
        "#we create a line, and then sample points form the line with some random error\n",
        "\n",
        "#line y = mx + c\n",
        "#c is limited to [-0.5, +0.5]; this is just to manage the plotting of the line"
      ],
      "execution_count": 0,
      "outputs": []
    },
    {
      "cell_type": "code",
      "metadata": {
        "id": "abiZ2SZVH9Ek",
        "colab_type": "code",
        "colab": {}
      },
      "source": [
        "def create_new_training_data_2d( ndata=100, random_seed=None ) :\n",
        "    np.random.seed(random_seed)\n",
        "    \n",
        "    #we first select a slope randomly\n",
        "    m = scipy.stats.norm.rvs(0, size=1)[0]\n",
        "    #and an intercept\n",
        "    c = scipy.stats.norm.rvs(0, size=1)[0]\n",
        "    \n",
        "    #always the same; easy to plot\n",
        "    xtrain   = np.linspace(-1,1,ndata)\n",
        "    \n",
        "    #the line without any errors\n",
        "    f_actual = m * xtrain + c\n",
        "    \n",
        "    #we crete the training y by introducing an 'error' to the actual y\n",
        "    ytrain   = scipy.stats.norm.rvs(f_actual, size=ndata)\n",
        "    \n",
        "    return xtrain, ytrain, f_actual, m, c\n",
        "\n",
        "def create_new_training_data( ndata=100, d=3, random_seed=None ) :\n",
        "    \"\"\"generate x with d-1 dim\"\"\"\n",
        "    \n",
        "    np.random.seed(random_seed)\n",
        "    \n",
        "    #we choose the d dim w randomly\n",
        "    #w[0] is the bias term\n",
        "    w = scipy.stats.norm.rvs(0, size=d)\n",
        "    \n",
        "    #We use nupy to have a ndata X d-1 matrix\n",
        "    xtrain   = np.random.normal(0, size=(ndata, d-1))\n",
        "    \n",
        "    #the line without any errors\n",
        "    f_actual = xtrain.dot(w[1:]) + w[0]\n",
        "    \n",
        "    #we crete the training y by introducing an 'error' to the actual y\n",
        "    #numpy is wonderful :)\n",
        "    ytrain   = np.random.normal(f_actual)\n",
        "    \n",
        "    return xtrain, ytrain, f_actual, w\n",
        "\n",
        "def lineplot(x,y,f=None) :\n",
        "    \"\"\"just a convenient plot\"\"\"\n",
        "    plt.scatter(x,y, color='blue')\n",
        "    if f is not None:\n",
        "        plt.scatter(x,f, color='orange')\n",
        "        \n",
        "    plt.axhline(0, color='black')\n",
        "    plt.axvline(0, color='black')\n",
        "    "
      ],
      "execution_count": 0,
      "outputs": []
    },
    {
      "cell_type": "code",
      "metadata": {
        "id": "pFhDaPjfISu0",
        "colab_type": "code",
        "colab": {}
      },
      "source": [
        "ndata = 100\n",
        "xtrain, ytrain, f_actual, m, c = create_new_training_data_2d( ndata )"
      ],
      "execution_count": 0,
      "outputs": []
    },
    {
      "cell_type": "code",
      "metadata": {
        "id": "hSV3ldTqIbAA",
        "colab_type": "code",
        "colab": {
          "base_uri": "https://localhost:8080/",
          "height": 265
        },
        "outputId": "ae6af474-abe6-4916-b9e2-da611fffd036"
      },
      "source": [
        "lineplot(xtrain, ytrain, f_actual)"
      ],
      "execution_count": 7,
      "outputs": [
        {
          "output_type": "display_data",
          "data": {
            "image/png": "[encoded data removed]",
            "text/plain": [
              "<Figure size 432x288 with 1 Axes>"
            ]
          },
          "metadata": {
            "tags": []
          }
        }
      ]
    },
    {
      "cell_type": "code",
      "metadata": {
        "id": "Kn3ufN0IIdte",
        "colab_type": "code",
        "colab": {}
      },
      "source": [
        "#the above function in another form\n",
        "x, y, f, w = create_new_training_data( d=2 )"
      ],
      "execution_count": 0,
      "outputs": []
    },
    {
      "cell_type": "code",
      "metadata": {
        "id": "khSAOQ-qIoct",
        "colab_type": "code",
        "colab": {
          "base_uri": "https://localhost:8080/",
          "height": 265
        },
        "outputId": "e5731a6a-2a6c-45ba-8ee8-c3cea5a487fb"
      },
      "source": [
        "lineplot(x, y, f)"
      ],
      "execution_count": 9,
      "outputs": [
        {
          "output_type": "display_data",
          "data": {
            "image/png": "[encoded data removed]",
            "text/plain": [
              "<Figure size 432x288 with 1 Axes>"
            ]
          },
          "metadata": {
            "tags": []
          }
        }
      ]
    },
    {
      "cell_type": "code",
      "metadata": {
        "id": "89jrmbolIsFP",
        "colab_type": "code",
        "colab": {}
      },
      "source": [
        "\n",
        "def linear_regression_2d(X, Y) :\n",
        "    \"\"\"returns parameters of the model\"\"\"\n",
        "    #X has shape (Nx1) and Y has shape(N,1), M is the number of data points\n",
        "\n",
        "    N = X.shape[0]\n",
        "    \n",
        "    #we initialize the parameters randomly\n",
        "    w = np.random.rand() \n",
        "    bias = np.random.rand()\n",
        "\n",
        "    \n",
        "    for t in range(N * 10) : #iterate some 10 times over the whole data.\n",
        "        \n",
        "        alpha = 1/(t+1)**0.75 #we decay the alpha; (t+1) is to avoid divide by zero\n",
        "        \n",
        "        #take a random data point\n",
        "        i = np.random.choice(range(N))\n",
        "        x, y  = X[i], Y[i]\n",
        "\n",
        "        h = w * x + bias\n",
        "        #print(h.shape)\n",
        "        delta_w = x * (h-y)\n",
        "        delta_b = (h-y)\n",
        "        \n",
        "        #update the values according to the gradient\n",
        "        w    -= alpha * delta_w\n",
        "        bias -= alpha * delta_b\n",
        "    \n",
        "    return bias, w"
      ],
      "execution_count": 0,
      "outputs": []
    },
    {
      "cell_type": "code",
      "metadata": {
        "id": "jyv9Zh4eI6Nv",
        "colab_type": "code",
        "colab": {}
      },
      "source": [
        "####### lets do some sample testing"
      ],
      "execution_count": 0,
      "outputs": []
    },
    {
      "cell_type": "code",
      "metadata": {
        "id": "VcLbLf38JAoy",
        "colab_type": "code",
        "colab": {}
      },
      "source": [
        "bias, slope = linear_regression_2d(xtrain.reshape(-1,1), ytrain)"
      ],
      "execution_count": 0,
      "outputs": []
    },
    {
      "cell_type": "code",
      "metadata": {
        "id": "Edad8eKaJEUp",
        "colab_type": "code",
        "colab": {}
      },
      "source": [
        "xtest = np.linspace(-0.94,1,ndata).reshape(-1,2)"
      ],
      "execution_count": 0,
      "outputs": []
    },
    {
      "cell_type": "code",
      "metadata": {
        "id": "eTcTE1x1JLaW",
        "colab_type": "code",
        "colab": {}
      },
      "source": [
        "ypredict = [ slope*xt + bias for xt in xtrain]"
      ],
      "execution_count": 0,
      "outputs": []
    },
    {
      "cell_type": "code",
      "metadata": {
        "id": "hTo30FOmJa9R",
        "colab_type": "code",
        "colab": {
          "base_uri": "https://localhost:8080/",
          "height": 268
        },
        "outputId": "313aca32-d7b3-4082-e616-7880ebd0dd2d"
      },
      "source": [
        "lineplot(xtest,ypredict,f_actual)"
      ],
      "execution_count": 16,
      "outputs": [
        {
          "output_type": "display_data",
          "data": {
            "image/png": "[encoded data removed]",
            "text/plain": [
              "<Figure size 432x288 with 1 Axes>"
            ]
          },
          "metadata": {
            "tags": []
          }
        }
      ]
    },
    {
      "cell_type": "code",
      "metadata": {
        "id": "w3ujxOtiJkxC",
        "colab_type": "code",
        "colab": {}
      },
      "source": [
        "#Ok lets do the linear regression in the n dim case "
      ],
      "execution_count": 0,
      "outputs": []
    }
  ]
}