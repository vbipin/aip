{
  "nbformat": 4,
  "nbformat_minor": 0,
  "metadata": {
    "colab": {
      "name": "decision_tree.ipynb",
      "provenance": [],
      "collapsed_sections": [],
      "authorship_tag": "ABX9TyOg/65fSP1fi5z80KujLiU3",
      "include_colab_link": true
    },
    "kernelspec": {
      "name": "python3",
      "display_name": "Python 3"
    }
  },
  "cells": [
    {
      "cell_type": "markdown",
      "metadata": {
        "id": "view-in-github",
        "colab_type": "text"
      },
      "source": [
        "<a href=\"https://colab.research.google.com/github/vbipin/aip/blob/master/decision_tree.ipynb\" target=\"_parent\"><img src=\"https://colab.research.google.com/assets/colab-badge.svg\" alt=\"Open In Colab\"/></a>"
      ]
    },
    {
      "cell_type": "code",
      "metadata": {
        "id": "1T85csd5-LzA",
        "colab_type": "code",
        "colab": {}
      },
      "source": [
        ""
      ],
      "execution_count": 19,
      "outputs": []
    },
    {
      "cell_type": "code",
      "metadata": {
        "id": "DP77VIW1_k02",
        "colab_type": "code",
        "colab": {}
      },
      "source": [
        "#########\n",
        "#Work in progress. Just a backup\n",
        "#########"
      ],
      "execution_count": 20,
      "outputs": []
    },
    {
      "cell_type": "code",
      "metadata": {
        "id": "Pp7CDNVS_o-W",
        "colab_type": "code",
        "colab": {}
      },
      "source": [
        "#In this we are exploring the decision tree algorithm\n",
        "%matplotlib inline\n",
        "\n",
        "import matplotlib\n",
        "import numpy as np\n",
        "import matplotlib.pyplot as plt"
      ],
      "execution_count": 21,
      "outputs": []
    },
    {
      "cell_type": "code",
      "metadata": {
        "id": "8VjCUylV-Wyn",
        "colab_type": "code",
        "colab": {}
      },
      "source": [
        "#Some util functions\n",
        "from collections import Counter\n",
        "def entropy( P ) :    \n",
        "    #make sure that the incoming is a probability dist\n",
        "    assert( abs(sum(P) - 1) < 0.0001 ) #sum(P) must be 1; sometimes because of float values it need not be exactly 1\n",
        "    \n",
        "    sum_all = 0\n",
        "    for p in P :\n",
        "        sum_all += -p * np.log2(p) #entropy is the sum of -p*log(p)\n",
        "    \n",
        "    return sum_all\n",
        "\n",
        "def p_from_count( n_count ) :\n",
        "    #print(n_count)\n",
        "    N = sum(n_count)\n",
        "    return [i/N for i in n_count]\n",
        "\n",
        "def p_from_n_items( n_items ) :\n",
        "    \"\"\"count the items and build the probability distribution\"\"\"\n",
        "    c = Counter(n_items)\n",
        "    return p_from_count([c[i] for i in sorted(c.keys())])\n",
        "\n",
        "def p_dict_from_n_items( n_items ) :\n",
        "    \"\"\"return a dict of {class: probability, ...}\"\"\"\n",
        "    c = Counter(n_items)\n",
        "    N = sum(c.values())\n",
        "    p_dict = {label:count/N for label,count in c.items() }\n",
        "    return p_dict\n",
        "\n",
        "def entropy_from_n_items( n_items ) :\n",
        "    \"\"\"entropy form a list like [0,0,1,0,2,2]\"\"\"\n",
        "    return entropy( p_from_n_items( n_items ) )\n",
        "\n",
        "\n",
        "def data_split( X, Y, index_list ) :\n",
        "    \"\"\"Returns new X,Y at the indexs\"\"\"\n",
        "    return X[index_list], Y[index_list] #worls only with numpy arrays\n",
        "\n"
      ],
      "execution_count": 22,
      "outputs": []
    },
    {
      "cell_type": "code",
      "metadata": {
        "id": "mtFCxBGY-cTG",
        "colab_type": "code",
        "colab": {}
      },
      "source": [
        "#we split a continuous variable according to a value in to left and right trees\n",
        "#left branch is < \n",
        "\n",
        "def split_continuous_feature( X, feature_index, split_value ) :\n",
        "    left_index = []\n",
        "    right_index = []\n",
        "    for i,x in enumerate(X) :\n",
        "        if x[ feature_index ] < split_value :\n",
        "            left_index.append(i) #we just store the index of the data points\n",
        "        else :\n",
        "            right_index.append(i)\n",
        "    return left_index, right_index"
      ],
      "execution_count": 23,
      "outputs": []
    },
    {
      "cell_type": "code",
      "metadata": {
        "id": "oFJM0gJ7-haI",
        "colab_type": "code",
        "colab": {}
      },
      "source": [
        "#information gain\n",
        "\n",
        "def information_gain( parent, child_list ) :\n",
        "    \"\"\" parent is the list of y values\n",
        "        child_list is the list of y values for each child node\n",
        "    \"\"\"\n",
        "    parent_entropy = entropy_from_n_items(parent)\n",
        "    #for expectation we need each child probability\n",
        "    child_probability = [ len(c)/len(parent)      for c in child_list]\n",
        "    child_entropy     = [ entropy_from_n_items(c) for c in child_list]\n",
        "    children_expected_entropy = sum( [child_probability[i] * child_entropy[i] for i in range(len(child_list)) ] )\n",
        "    \n",
        "    return parent_entropy - children_expected_entropy"
      ],
      "execution_count": 24,
      "outputs": []
    },
    {
      "cell_type": "code",
      "metadata": {
        "id": "3qhb_3d7-kNU",
        "colab_type": "code",
        "colab": {}
      },
      "source": [
        "X = np.array([ \n",
        "    [1,1,3], \n",
        "    [2,1,5],\n",
        "    [1,2,5],\n",
        "    [3,1,7],\n",
        "    [2,2.5,6],\n",
        "    [3,3,2],\n",
        "])\n",
        "Y = np.array([1,1,1,1,0,0])"
      ],
      "execution_count": 25,
      "outputs": []
    },
    {
      "cell_type": "code",
      "metadata": {
        "id": "xNeSnY1A-uKz",
        "colab_type": "code",
        "colab": {
          "base_uri": "https://localhost:8080/",
          "height": 282
        },
        "outputId": "bc019753-6b4d-4708-ab78-1757a5ee50fc"
      },
      "source": [
        "plt.scatter(X[:,0], X[:,1], c=Y)"
      ],
      "execution_count": 26,
      "outputs": [
        {
          "output_type": "execute_result",
          "data": {
            "text/plain": [
              "<matplotlib.collections.PathCollection at 0x7f0224ce2ef0>"
            ]
          },
          "metadata": {
            "tags": []
          },
          "execution_count": 26
        },
        {
          "output_type": "display_data",
          "data": {
            "image/png": "[encoded data removed]",
            "text/plain": [
              "<Figure size 432x288 with 1 Axes>"
            ]
          },
          "metadata": {
            "tags": [],
            "needs_background": "light"
          }
        }
      ]
    },
    {
      "cell_type": "code",
      "metadata": {
        "id": "j3x3X_kQ-v-y",
        "colab_type": "code",
        "colab": {
          "base_uri": "https://localhost:8080/",
          "height": 34
        },
        "outputId": "0eaf1034-4525-4dd6-e1e2-7160175acf0a"
      },
      "source": [
        "l_index,r_index =split_continuous_feature(X, feature_index=1, split_value=2.2)\n",
        "L = Y[l_index]\n",
        "R = Y[r_index]\n",
        "information_gain(Y,[L,R])"
      ],
      "execution_count": 27,
      "outputs": [
        {
          "output_type": "execute_result",
          "data": {
            "text/plain": [
              "0.9182958340544896"
            ]
          },
          "metadata": {
            "tags": []
          },
          "execution_count": 27
        }
      ]
    },
    {
      "cell_type": "code",
      "metadata": {
        "id": "i56UG0yh-7lS",
        "colab_type": "code",
        "colab": {}
      },
      "source": [
        "########################################################################"
      ],
      "execution_count": 28,
      "outputs": []
    },
    {
      "cell_type": "code",
      "metadata": {
        "id": "9VZj6hyS_G5I",
        "colab_type": "code",
        "colab": {}
      },
      "source": [
        "def find_IG_of_all_splits(X, Y, feature_index) :\n",
        "    \"\"\"returns the IG of all the splits\"\"\"\n",
        "    ig_list = []\n",
        "    for split_value in X[:,feature_index] : #we split on all the values of this feature\n",
        "        l_index,r_index =split_continuous_feature(X, feature_index, split_value)\n",
        "        L = Y[l_index]\n",
        "        R = Y[r_index]\n",
        "        if len(L) and len(R) :\n",
        "            ig_list.append( information_gain(Y,[L,R]) )\n",
        "        else :\n",
        "            if len(L) :\n",
        "                ig_list.append( information_gain(Y,[L]) )\n",
        "            else :\n",
        "                ig_list.append( information_gain(Y,[R]) ) \n",
        "    return ig_list"
      ],
      "execution_count": 29,
      "outputs": []
    },
    {
      "cell_type": "code",
      "metadata": {
        "id": "FSpbr8ta_IVd",
        "colab_type": "code",
        "colab": {}
      },
      "source": [
        "def find_best_split(X,Y) :\n",
        "    a = []\n",
        "    for feature_index in range(len(X[0])) :\n",
        "        ig = find_IG_of_all_splits(X,Y,feature_index)\n",
        "        max_ig = max(ig)\n",
        "        max_ig_index = ig.index(max_ig)\n",
        "        split_value = X[:,feature_index][max_ig_index]\n",
        "        a.append((max_ig,feature_index,split_value))\n",
        "\n",
        "    return sorted(a)"
      ],
      "execution_count": 30,
      "outputs": []
    },
    {
      "cell_type": "code",
      "metadata": {
        "id": "U4PHMnLV_OGh",
        "colab_type": "code",
        "colab": {}
      },
      "source": [
        "#Tree node\n",
        "class node :\n",
        "    def __init__(self, feature_index, split_value, p_dict) :\n",
        "        self.feature_index = feature_index\n",
        "        self.split_value   = split_value\n",
        "        self.p_dict        = p_dict # { class: probability }\n",
        "        self.L = None  # < split_value\n",
        "        self.R = None  # >= split_value"
      ],
      "execution_count": 31,
      "outputs": []
    },
    {
      "cell_type": "code",
      "metadata": {
        "id": "KHoYu6YY_Qi1",
        "colab_type": "code",
        "colab": {}
      },
      "source": [
        "def build_decision_tree( PX, PY, depth) :\n",
        "    if depth <= 0 : \n",
        "        return None\n",
        "   \n",
        "    _,f,v = find_best_split(PX,PY)[-1]\n",
        "    p = p_dict_from_n_items( PY )\n",
        "    tree = node( f, v, p )\n",
        "    \n",
        "    if len(p.keys()) <= 1 :\n",
        "        return tree #we dont need to split this node\n",
        "        \n",
        "    l_index,r_index =split_continuous_feature(PX, feature_index=f, split_value=v)\n",
        "    if len(l_index) > 0 :\n",
        "        LX, LY = data_split(PX,PY,l_index)\n",
        "        tree.L = build_decision_tree( LX, LY, depth-1 )\n",
        "    \n",
        "    if len(r_index) > 0 :   \n",
        "        RX, RY = data_split(PX,PY,r_index)\n",
        "        tree.R = build_decision_tree( RX, RY, depth-1 )\n",
        "    \n",
        "    return tree\n",
        "        \n",
        "        \n",
        "def __prediction_from_p_dict( p_dict ) :\n",
        "    mav_value = 0\n",
        "    prediction = None\n",
        "    for label, value in p_dict.items() :\n",
        "        if value >= mav_value :\n",
        "            prediction = label\n",
        "            max_value = value\n",
        "    return prediction\n",
        "\n",
        "def prediction_from_p_dict( p_dict ) :\n",
        "    class_labels = list(p_dict.keys())\n",
        "    p =[ p_dict[c] for c in class_labels]\n",
        "    return np.random.choice(class_labels, size=1, p=p)[0]\n",
        "\n",
        "def apply_tree_node( node, x ) :\n",
        "    prediction = prediction_from_p_dict(node.p_dict)\n",
        "    if  len(node.p_dict.keys()) == 1 :\n",
        "        return None, prediction\n",
        "    \n",
        "    if x[node.feature_index] < node.split_value : #left tree\n",
        "        return node.L, prediction\n",
        "    else :\n",
        "        return node.R, prediction\n",
        "\n",
        "def predict( node, x ) :\n",
        "    \"\"\"This will return the label of the data point x\"\"\"\n",
        "    branch, prediction = apply_tree_node(node,x)\n",
        "    if branch is None : #if leaf node\n",
        "        return prediction\n",
        "    #else, go down the tree\n",
        "    return predict(branch, x)"
      ],
      "execution_count": 32,
      "outputs": []
    },
    {
      "cell_type": "code",
      "metadata": {
        "id": "LKJmXF6j_AE5",
        "colab_type": "code",
        "colab": {
          "base_uri": "https://localhost:8080/",
          "height": 333
        },
        "outputId": "8bd476c6-2b75-438e-b3fc-5a5507e0a4d8"
      },
      "source": [
        "#############################################\n",
        "from sklearn import datasets\n",
        "\n",
        "np.random.seed(5)\n",
        "\n",
        "iris = datasets.load_iris()\n",
        "\n",
        "print(iris.data.shape)\n",
        "print(iris.feature_names)\n",
        "print(iris.target_names)\n",
        "\n",
        "from sklearn.model_selection import train_test_split\n",
        "X_train, X_test, y_train, y_test = train_test_split(iris.data, iris.target, test_size=0.3) # 70% training and 30% test\n",
        "\n",
        "#X = iris.data\n",
        "#Y = iris.target\n",
        "\n",
        "X=X_train\n",
        "Y=y_train\n",
        "\n",
        "plt.scatter(X[:, 2], X[:, 3],\n",
        "               c=Y.astype(np.float), edgecolor='k')"
      ],
      "execution_count": 33,
      "outputs": [
        {
          "output_type": "stream",
          "text": [
            "(150, 4)\n",
            "['sepal length (cm)', 'sepal width (cm)', 'petal length (cm)', 'petal width (cm)']\n",
            "['setosa' 'versicolor' 'virginica']\n"
          ],
          "name": "stdout"
        },
        {
          "output_type": "execute_result",
          "data": {
            "text/plain": [
              "<matplotlib.collections.PathCollection at 0x7f0224c417f0>"
            ]
          },
          "metadata": {
            "tags": []
          },
          "execution_count": 33
        },
        {
          "output_type": "display_data",
          "data": {
            "image/png": "[encoded data removed]",
            "text/plain": [
              "<Figure size 432x288 with 1 Axes>"
            ]
          },
          "metadata": {
            "tags": [],
            "needs_background": "light"
          }
        }
      ]
    },
    {
      "cell_type": "code",
      "metadata": {
        "id": "rDE67r7t_Awe",
        "colab_type": "code",
        "colab": {}
      },
      "source": [
        ""
      ],
      "execution_count": 33,
      "outputs": []
    },
    {
      "cell_type": "code",
      "metadata": {
        "id": "OCWiZLRB_X4B",
        "colab_type": "code",
        "colab": {}
      },
      "source": [
        "#Work in progress. Just a backup"
      ],
      "execution_count": 34,
      "outputs": []
    },
    {
      "cell_type": "code",
      "metadata": {
        "id": "eXslwLALEgkM",
        "colab_type": "code",
        "colab": {}
      },
      "source": [
        "def accuracy( predicted, true ) :\n",
        "    return list(predicted == true).count(True)/len(predicted)"
      ],
      "execution_count": 35,
      "outputs": []
    },
    {
      "cell_type": "code",
      "metadata": {
        "id": "nv00u2awEhHs",
        "colab_type": "code",
        "colab": {}
      },
      "source": [
        "tree = build_decision_tree( X, Y, 4)"
      ],
      "execution_count": 37,
      "outputs": []
    },
    {
      "cell_type": "code",
      "metadata": {
        "id": "be1qn-I3eMCU",
        "colab_type": "code",
        "colab": {
          "base_uri": "https://localhost:8080/",
          "height": 34
        },
        "outputId": "2c9f5ffe-8d3b-440b-b41e-a24b8a06b2d4"
      },
      "source": [
        "y_ = [ predict(tree, X[i]) for i in range(len(X)) ]\n",
        "accuracy(y_, y_train)"
      ],
      "execution_count": 39,
      "outputs": [
        {
          "output_type": "execute_result",
          "data": {
            "text/plain": [
              "0.9523809523809523"
            ]
          },
          "metadata": {
            "tags": []
          },
          "execution_count": 39
        }
      ]
    },
    {
      "cell_type": "code",
      "metadata": {
        "id": "BIAP4rAteRjq",
        "colab_type": "code",
        "colab": {
          "base_uri": "https://localhost:8080/",
          "height": 34
        },
        "outputId": "aa17ea8b-ca55-4384-b9a7-4af8d4afc172"
      },
      "source": [
        "t_ = [ predict(tree, X_test[i]) for i in range(len(X_test)) ]\n",
        "accuracy(t_, y_test)"
      ],
      "execution_count": 38,
      "outputs": [
        {
          "output_type": "execute_result",
          "data": {
            "text/plain": [
              "0.9111111111111111"
            ]
          },
          "metadata": {
            "tags": []
          },
          "execution_count": 38
        }
      ]
    },
    {
      "cell_type": "code",
      "metadata": {
        "id": "LnEQMyNPeSNX",
        "colab_type": "code",
        "colab": {}
      },
      "source": [
        "#############################################################\n",
        "#Another dataset"
      ],
      "execution_count": 40,
      "outputs": []
    },
    {
      "cell_type": "code",
      "metadata": {
        "id": "1aikYku3edJF",
        "colab_type": "code",
        "colab": {
          "base_uri": "https://localhost:8080/",
          "height": 204
        },
        "outputId": "e08b1410-0470-4c4e-b95e-ceb8f7e2d747"
      },
      "source": [
        "#ref: https://www.datacamp.com/community/tutorials/principal-component-analysis-in-python\n",
        "from sklearn.datasets import load_breast_cancer\n",
        "b = load_breast_cancer()\n",
        "\n",
        "print(b.data.shape)\n",
        "print(b.feature_names)\n",
        "print(b.target_names)"
      ],
      "execution_count": 41,
      "outputs": [
        {
          "output_type": "stream",
          "text": [
            "(569, 30)\n",
            "['mean radius' 'mean texture' 'mean perimeter' 'mean area'\n",
            " 'mean smoothness' 'mean compactness' 'mean concavity'\n",
            " 'mean concave points' 'mean symmetry' 'mean fractal dimension'\n",
            " 'radius error' 'texture error' 'perimeter error' 'area error'\n",
            " 'smoothness error' 'compactness error' 'concavity error'\n",
            " 'concave points error' 'symmetry error' 'fractal dimension error'\n",
            " 'worst radius' 'worst texture' 'worst perimeter' 'worst area'\n",
            " 'worst smoothness' 'worst compactness' 'worst concavity'\n",
            " 'worst concave points' 'worst symmetry' 'worst fractal dimension']\n",
            "['malignant' 'benign']\n"
          ],
          "name": "stdout"
        }
      ]
    },
    {
      "cell_type": "code",
      "metadata": {
        "id": "Z_sbRwPsegqA",
        "colab_type": "code",
        "colab": {
          "base_uri": "https://localhost:8080/",
          "height": 282
        },
        "outputId": "e63861ea-ca49-4295-a4ab-0a1d153bd4b0"
      },
      "source": [
        "from sklearn.model_selection import train_test_split\n",
        "X_train, X_test, y_train, y_test = train_test_split(b.data, b.target, test_size=0.3) # 70% training and 30% test\n",
        "\n",
        "#X = iris.data\n",
        "#Y = iris.target\n",
        "\n",
        "X=X_train\n",
        "Y=y_train\n",
        "\n",
        "plt.scatter(X[:, 0], X[:, 5],\n",
        "               c=Y.astype(np.float), edgecolor='k')"
      ],
      "execution_count": 50,
      "outputs": [
        {
          "output_type": "execute_result",
          "data": {
            "text/plain": [
              "<matplotlib.collections.PathCollection at 0x7f0224b2ac18>"
            ]
          },
          "metadata": {
            "tags": []
          },
          "execution_count": 50
        },
        {
          "output_type": "display_data",
          "data": {
            "image/png": "[encoded data removed]",
            "text/plain": [
              "<Figure size 432x288 with 1 Axes>"
            ]
          },
          "metadata": {
            "tags": [],
            "needs_background": "light"
          }
        }
      ]
    },
    {
      "cell_type": "code",
      "metadata": {
        "id": "84QHv5PrejiR",
        "colab_type": "code",
        "colab": {
          "base_uri": "https://localhost:8080/",
          "height": 34
        },
        "outputId": "6960623e-8ec6-4009-98dc-1ebfcf227bd4"
      },
      "source": [
        "tree = build_decision_tree( X, Y, depth=5)\n",
        "\n",
        "y_ = [ predict(tree, X[i]) for i in range(len(X)) ]\n",
        "\n",
        "accuracy(y_, y_train)"
      ],
      "execution_count": 51,
      "outputs": [
        {
          "output_type": "execute_result",
          "data": {
            "text/plain": [
              "0.9874371859296482"
            ]
          },
          "metadata": {
            "tags": []
          },
          "execution_count": 51
        }
      ]
    },
    {
      "cell_type": "code",
      "metadata": {
        "id": "TBUg4Tjleodc",
        "colab_type": "code",
        "colab": {
          "base_uri": "https://localhost:8080/",
          "height": 34
        },
        "outputId": "75a355e0-4446-4786-ac04-65e963d09596"
      },
      "source": [
        "t_ = [ predict(tree, X_test[i]) for i in range(len(X_test)) ]\n",
        "\n",
        "accuracy(t_, y_test)"
      ],
      "execution_count": 52,
      "outputs": [
        {
          "output_type": "execute_result",
          "data": {
            "text/plain": [
              "0.9298245614035088"
            ]
          },
          "metadata": {
            "tags": []
          },
          "execution_count": 52
        }
      ]
    },
    {
      "cell_type": "code",
      "metadata": {
        "id": "EIoltHmDesm0",
        "colab_type": "code",
        "colab": {}
      },
      "source": [
        ""
      ],
      "execution_count": null,
      "outputs": []
    }
  ]
}