{
  "nbformat": 4,
  "nbformat_minor": 0,
  "metadata": {
    "colab": {
      "name": "decision_tree.ipynb",
      "provenance": [],
      "collapsed_sections": [],
      "include_colab_link": true
    },
    "kernelspec": {
      "display_name": "Python 3",
      "language": "python",
      "name": "python3"
    },
    "language_info": {
      "codemirror_mode": {
        "name": "ipython",
        "version": 3
      },
      "file_extension": ".py",
      "mimetype": "text/x-python",
      "name": "python",
      "nbconvert_exporter": "python",
      "pygments_lexer": "ipython3",
      "version": "3.7.3"
    }
  },
  "cells": [
    {
      "cell_type": "markdown",
      "metadata": {
        "id": "view-in-github",
        "colab_type": "text"
      },
      "source": [
        "<a href=\"https://colab.research.google.com/github/vbipin/aip/blob/master/decision_tree.ipynb\" target=\"_parent\"><img src=\"https://colab.research.google.com/assets/colab-badge.svg\" alt=\"Open In Colab\"/></a>"
      ]
    },
    {
      "cell_type": "code",
      "metadata": {
        "colab_type": "code",
        "id": "DP77VIW1_k02",
        "colab": {}
      },
      "source": [
        "#########\n",
        "#This notebook has both decision tree and the Random forest classifier\n",
        "#########"
      ],
      "execution_count": 78,
      "outputs": []
    },
    {
      "cell_type": "code",
      "metadata": {
        "colab_type": "code",
        "id": "KzWsQBsQ8oxr",
        "colab": {}
      },
      "source": [
        "#Ref: https://www.cs.ubc.ca/~nando/540-2013/lectures.html\n",
        "#lectures on Decision trees and Random forests\n",
        "# http://www.cs.ubc.ca/~nando/540-2013/lectures/l8.pdf\n",
        "# http://www.cs.ubc.ca/~nando/540-2013/lectures/l9.pdf\n",
        "\n",
        "#Ref: Paper Criminisi et al, 2011\n",
        "# https://www.microsoft.com/en-us/research/wp-content/uploads/2016/02/decisionForests_MSR_TR_2011_114.pdf"
      ],
      "execution_count": 79,
      "outputs": []
    },
    {
      "cell_type": "code",
      "metadata": {
        "colab_type": "code",
        "id": "Pp7CDNVS_o-W",
        "colab": {}
      },
      "source": [
        "#In this we are exploring the decision tree algorithm\n",
        "%matplotlib inline\n",
        "\n",
        "import matplotlib\n",
        "import numpy as np\n",
        "import matplotlib.pyplot as plt"
      ],
      "execution_count": 80,
      "outputs": []
    },
    {
      "cell_type": "code",
      "metadata": {
        "id": "i7L99NeYigYo",
        "colab_type": "code",
        "colab": {}
      },
      "source": [
        "from collections import Counter\n",
        "#from scipy.stats import entropy"
      ],
      "execution_count": 81,
      "outputs": []
    },
    {
      "cell_type": "code",
      "metadata": {
        "colab_type": "code",
        "id": "8VjCUylV-Wyn",
        "colab": {}
      },
      "source": [
        "#Some util functions\n",
        "\n",
        "#we can use from scipy.stats import entropy\n",
        "def entropy( P ) :    \n",
        "    #make sure that the incoming is a probability dist\n",
        "    assert( abs(sum(P) - 1) < 0.0001 ) #sum(P) must be 1; sometimes because of float values it need not be exactly 1\n",
        "    \n",
        "    sum_all = 0\n",
        "    for p in P :\n",
        "        sum_all += -p * np.log2(p) #entropy is the sum of -p*log(p)\n",
        "    \n",
        "    return sum_all\n",
        "\n",
        "def p_from_count( n_count ) :\n",
        "    \"\"\"create a probability from counts like [1,3,4]\"\"\"\n",
        "    N = sum(n_count)\n",
        "    return [i/N for i in n_count]\n",
        "\n",
        "def p_from_n_items( n_items ) :\n",
        "    \"\"\"count the items and build the probability distribution\"\"\"\n",
        "    c = Counter(n_items)\n",
        "    return p_from_count([c[i] for i in sorted(c.keys())])\n",
        "\n",
        "#We also keep the probabilitu distribution as a dict\n",
        "#p_dict = { label1 : probability1, label2 : probability2, ...}\n",
        "def p_dict_from_n_items( n_items ) :\n",
        "    \"\"\"return a dict of {class: probability, ...}\"\"\"\n",
        "    c = Counter(n_items)\n",
        "    N = sum(c.values())\n",
        "    p_dict = {label:count/N for label,count in c.items() }\n",
        "    return p_dict\n",
        "\n",
        "def entropy_from_n_items( n_items ) :\n",
        "    \"\"\"entropy form a list like [0,0,1,0,2,2]\"\"\"\n",
        "    if len(n_items) == 0 :\n",
        "        return 0 #we assume the entropy of a null list is 0 #XXX\n",
        "    return entropy( p_from_n_items( n_items ) )\n",
        "\n",
        "\n",
        "def data_split( X, Y, index_list ) :\n",
        "    \"\"\"Returns new X,Y at the indexs\"\"\"\n",
        "    return X[index_list], Y[index_list] #worls only with numpy arrays\n",
        "\n"
      ],
      "execution_count": 82,
      "outputs": []
    },
    {
      "cell_type": "code",
      "metadata": {
        "colab_type": "code",
        "id": "R0RIoZ1U0R0a",
        "colab": {}
      },
      "source": [
        "#some more utils for random forests\n",
        "def argmax_of_p_dict( p_dict ) :\n",
        "    \"\"\"returns the key to the max value in the dict\"\"\"\n",
        "    return max(p_dict, key=lambda key: p_dict[key])\n",
        "\n",
        "#We need to average all the probability dicts from all the decition trees\n",
        "#   to get the final randomforest prediction.\n",
        "#ref: Criminisi et al, 2011\n",
        "def average_list_of_p_dict( list_of_dict ) :\n",
        "    \"\"\"make an average of lot of dicts\"\"\"\n",
        "    new_dict = {}\n",
        "    for d in list_of_dict :\n",
        "        for k,v in d.items() :\n",
        "            if k in new_dict :\n",
        "                new_dict[k] += v\n",
        "            else :\n",
        "                new_dict[k] = v\n",
        "    T = len(list_of_dict)\n",
        "    return {k:v/T for k,v in new_dict.items()} #return the average"
      ],
      "execution_count": 83,
      "outputs": []
    },
    {
      "cell_type": "code",
      "metadata": {
        "colab_type": "code",
        "id": "mtFCxBGY-cTG",
        "colab": {}
      },
      "source": [
        "#we split a continuous variable according to a value in to left and right trees\n",
        "#left branch is < \n",
        "\n",
        "def split_continuous_feature( data, split_value ) :\n",
        "    #we return the left indexs, and right nodes based on the split values\n",
        "    #np.where just gives the index\n",
        "    left_indexs  = np.where( data < split_value )\n",
        "    right_indexs = np.where( data >= split_value )\n",
        "    return left_indexs, right_indexs\n"
      ],
      "execution_count": 84,
      "outputs": []
    },
    {
      "cell_type": "code",
      "metadata": {
        "colab_type": "code",
        "id": "oFJM0gJ7-haI",
        "colab": {}
      },
      "source": [
        "#information gain and GINI\n",
        "\n",
        "def information_gain( parent, child_list ) :\n",
        "    \"\"\" parent is the list of y values\n",
        "        child_list is the list of y values for each child node\n",
        "    \"\"\"\n",
        "    parent_entropy = entropy_from_n_items(parent)\n",
        "    #for expectation we need each child probability\n",
        "    child_probability = [ len(c)/len(parent)      for c in child_list]\n",
        "    child_entropy     = [ entropy_from_n_items(c) for c in child_list ]\n",
        "    children_expected_entropy = sum( [child_probability[i] * child_entropy[i] for i in range(len(child_list)) ] )\n",
        "    \n",
        "    return parent_entropy - children_expected_entropy\n",
        "\n",
        "#ref : https://victorzhou.com/blog/gini-impurity/\n",
        "#Fixed a BUG :)\n",
        "def gini( n_items ) :\n",
        "    probability_dist = p_from_n_items( n_items )\n",
        "    return 1 - sum([p**2 for p in probability_dist])\n",
        "\n",
        "def gini_gain( parent, child_list ) :\n",
        "    \"\"\" parent is the list of y values\n",
        "        child_list is the list of y values for each child node\n",
        "    \"\"\"\n",
        "    #for expectation we need each child probability\n",
        "    child_probability = [ len(c)/len(parent)      for c in child_list]\n",
        "    children_expected_gini = sum( [child_probability[i] * gini(child_list[i]) for i in range(len(child_list)) ] )\n",
        "    \n",
        "    return gini(parent) - children_expected_gini"
      ],
      "execution_count": 150,
      "outputs": []
    },
    {
      "cell_type": "code",
      "metadata": {
        "colab_type": "code",
        "id": "3qhb_3d7-kNU",
        "colab": {}
      },
      "source": [
        "X = np.array([ \n",
        "    [1,1,3], \n",
        "    [1.5,1,5],\n",
        "    [1,1.5,5],\n",
        "    [3,1.5,7],\n",
        "    [2,2.5,6],\n",
        "    [3,3,2],\n",
        "])\n",
        "Y = np.array([1,1,1,1,0,0])"
      ],
      "execution_count": 152,
      "outputs": []
    },
    {
      "cell_type": "code",
      "metadata": {
        "colab_type": "code",
        "id": "xNeSnY1A-uKz",
        "colab": {
          "base_uri": "https://localhost:8080/",
          "height": 282
        },
        "outputId": "d83bcc7c-59c1-468d-beda-566161c70190"
      },
      "source": [
        "plt.scatter(X[:,0], X[:,1], c=Y)"
      ],
      "execution_count": 153,
      "outputs": [
        {
          "output_type": "execute_result",
          "data": {
            "text/plain": [
              "<matplotlib.collections.PathCollection at 0x7ff37c0986d8>"
            ]
          },
          "metadata": {
            "tags": []
          },
          "execution_count": 153
        },
        {
          "output_type": "display_data",
          "data": {
            "image/png": "[encoded data removed]",
            "text/plain": [
              "<Figure size 432x288 with 1 Axes>"
            ]
          },
          "metadata": {
            "tags": [],
            "needs_background": "light"
          }
        }
      ]
    },
    {
      "cell_type": "code",
      "metadata": {
        "id": "-kzNexPzigY8",
        "colab_type": "code",
        "colab": {
          "base_uri": "https://localhost:8080/",
          "height": 221
        },
        "outputId": "07b54eb3-3ff1-446d-e7be-0eb573eea338"
      },
      "source": [
        "for split_value in [1, 1.2, 1.7,2.2,3,3.5] :\n",
        "    feature_index = 0\n",
        "    l_index,r_index =split_continuous_feature(X[:, feature_index], split_value)\n",
        "    L = Y[l_index]\n",
        "    R = Y[r_index]\n",
        "    #print(len(L), len(R))\n",
        "    print( information_gain(Y,[L,R]), gini_gain(Y,[L,R]) )\n",
        "    \n",
        "for split_value in [1, 1.2, 1.5, 2,3,3.5] :\n",
        "    feature_index = 1\n",
        "    l_index,r_index =split_continuous_feature(X[:, feature_index], split_value)\n",
        "    L = Y[l_index]\n",
        "    R = Y[r_index]\n",
        "    #print(len(L), len(R))\n",
        "    print( information_gain(Y,[L,R]), gini_gain(Y,[L,R]) ) "
      ],
      "execution_count": 154,
      "outputs": [
        {
          "output_type": "stream",
          "text": [
            "0.0 0.0\n",
            "0.2516291673878229 0.1111111111111111\n",
            "0.4591479170272448 0.2222222222222222\n",
            "0.044110417748401076 0.02777777777777779\n",
            "0.044110417748401076 0.02777777777777779\n",
            "0.0 0.0\n",
            "0.0 0.0\n",
            "0.2516291673878229 0.1111111111111111\n",
            "0.2516291673878229 0.1111111111111111\n",
            "0.9182958340544896 0.4444444444444444\n",
            "0.31668908831502096 0.17777777777777787\n",
            "0.0 0.0\n"
          ],
          "name": "stdout"
        }
      ]
    },
    {
      "cell_type": "code",
      "metadata": {
        "colab_type": "code",
        "id": "i56UG0yh-7lS",
        "colab": {}
      },
      "source": [
        "########################################################################\n",
        "#Lets proceed with finding the best feature and its split value"
      ],
      "execution_count": 89,
      "outputs": []
    },
    {
      "cell_type": "code",
      "metadata": {
        "colab_type": "code",
        "id": "9VZj6hyS_G5I",
        "colab": {}
      },
      "source": [
        "\"\"\"\n",
        "#We need to find the best split of a feature. The features are split according to the values\n",
        "# and evaluted on the information gain (or GINI)\n",
        "# The best split is taken forward to build the tree node.\n",
        "\n",
        "#First how many split points are we considering?\n",
        "#For simplicity we can consider all the values. This may be n overkill.\n",
        "#A better method may be to quantize the range of values.\n",
        "\"\"\"\n",
        "\n",
        "def find_split_values( X, feature_index) :\n",
        "    \"\"\"return a set of all values that can be used for splitiing the data\"\"\"\n",
        "    #For the time being we are just returning all the values\n",
        "    #ie value of this column for all data points.\n",
        "    return X[:, feature_index]\n",
        "\n",
        "def find_best_split(X,Y, feature_list=None, criterion=information_gain ) :\n",
        "    \"\"\"Find the best split among the given feature indexes\n",
        "        feature_list: list of indexs eg [ 0, 5, 7, 20]\n",
        "        criterion:    function to use for spliting information_gain or gini\n",
        "    \"\"\"\n",
        "    #if no feature list is given we take all the features of the data\n",
        "    if feature_list is None : \n",
        "        feature_list = range(len(X[0])) #all the features\n",
        "    \n",
        "    ig_list = [] #we store the IGvalue, feature_index, and split_value\n",
        "    for feature_index in feature_list :\n",
        "        #for this feature, we find the information_gain for all the splits\n",
        "        split_values = find_split_values( X, feature_index)\n",
        "        for value in split_values : \n",
        "            #split the data into left and right according to the value\n",
        "            l_index, r_index = split_continuous_feature(X[:, feature_index], value)\n",
        "            L = Y[l_index]\n",
        "            R = Y[r_index]\n",
        "            \n",
        "            #criterion is information_gain or gini\n",
        "            ig_list.append( (criterion(Y,[L,R]), feature_index, value) ) \n",
        "\n",
        "    return sorted(ig_list)[-1] #this will be sorted on ig; so last one will be the best\n",
        "\n"
      ],
      "execution_count": 90,
      "outputs": []
    },
    {
      "cell_type": "code",
      "metadata": {
        "colab_type": "code",
        "id": "FSpbr8ta_IVd",
        "colab": {}
      },
      "source": [
        ""
      ],
      "execution_count": 90,
      "outputs": []
    },
    {
      "cell_type": "code",
      "metadata": {
        "colab_type": "code",
        "id": "U4PHMnLV_OGh",
        "colab": {}
      },
      "source": [
        "#Tree node\n",
        "#We store the feature index, the value to split on and the probability dict at that node\n",
        "class node :\n",
        "    def __init__(self, feature_index, split_value, p_dict) :\n",
        "        self.feature_index = feature_index\n",
        "        self.split_value   = split_value\n",
        "        self.p_dict        = p_dict # { label1: probability, label2: probability, ...  }\n",
        "        self.L = None  # < split_value\n",
        "        self.R = None  # >= split_value\n",
        "        "
      ],
      "execution_count": 91,
      "outputs": []
    },
    {
      "cell_type": "code",
      "metadata": {
        "colab_type": "code",
        "id": "KHoYu6YY_Qi1",
        "colab": {}
      },
      "source": [
        ""
      ],
      "execution_count": 91,
      "outputs": []
    },
    {
      "cell_type": "code",
      "metadata": {
        "id": "_x736XMEigZJ",
        "colab_type": "code",
        "colab": {}
      },
      "source": [
        "\"\"\"\n",
        "The decision tree is buitl taking a max_depth and number of features as input.\n",
        "\"\"\"        \n",
        "def build_decision_tree( PX, PY, depth, num_features=None, criterion=information_gain) :\n",
        "    \n",
        "    if depth <= 0 or len(PY) == 0 :\n",
        "        return None\n",
        "    \n",
        "    #we willr andomly selct some features to consider at this node.\n",
        "    if num_features is None : #we take all features\n",
        "        feature_list = list(range(PX.shape[1]))\n",
        "    else :\n",
        "        feature_list = np.random.choice( range(PX.shape[1]), num_features, replace=False)\n",
        "   \n",
        "    #f is the best feature index and v is the value to split on\n",
        "    _,f,v = find_best_split(PX,PY, feature_list, criterion)\n",
        "    \n",
        "    #create the tree node with f, v and p_dict\n",
        "    tree = node( f, v, p_dict_from_n_items( PY ) )\n",
        "    \n",
        "    #Do we have only one label? Then it is a leaf node\n",
        "    if len(tree.p_dict.keys()) <= 1 :\n",
        "        return tree #we dont need to split this node\n",
        "        \n",
        "    l_index,r_index =split_continuous_feature(PX[:, f], split_value=v)\n",
        "    \n",
        "    #left tree\n",
        "    LX, LY = data_split(PX,PY,l_index)\n",
        "    tree.L = build_decision_tree( LX, LY, depth-1, num_features, criterion )\n",
        "    \n",
        "    #right tree   \n",
        "    RX, RY = data_split(PX,PY,r_index)\n",
        "    tree.R = build_decision_tree( RX, RY, depth-1, num_features, criterion )\n",
        "    \n",
        "    return tree\n",
        "        \n",
        "def find_leaf_node( node, x ) :\n",
        "    \"\"\"find the leaf node of the data point x\"\"\"\n",
        "    \n",
        "    if x[node.feature_index] < node.split_value : #left tree\n",
        "        #Do we have a left tree?\n",
        "        if node.L is not None :\n",
        "            return find_leaf_node( node.L, x )\n",
        "    else :\n",
        "        if node.R is not None :\n",
        "            return find_leaf_node( node.R, x )\n",
        "    #there is no downward tree for this x; then the current node is the leaf\n",
        "    return node\n",
        "\n",
        "def tree_predict( tree, x ) :\n",
        "    \"\"\"This will return the label of the data point x\"\"\"\n",
        "    node = find_leaf_node( tree, x )    \n",
        "    return prediction_from_p_dict(node.p_dict) #, node.p_dict\n",
        "\n",
        "#To predict the label forma probability distribution, we take the argmax\n",
        "#ie we choose the label with the highest probability\n",
        "def prediction_from_p_dict( p_dict ) :\n",
        "    return argmax_of_p_dict( p_dict )\n",
        "\n",
        "\n",
        "#def predict( node, x ) :\n",
        "#    prediction, p_dict = tree_predict( node, x )\n",
        "#    return prediction"
      ],
      "execution_count": 92,
      "outputs": []
    },
    {
      "cell_type": "code",
      "metadata": {
        "colab_type": "code",
        "id": "LKJmXF6j_AE5",
        "colab": {
          "base_uri": "https://localhost:8080/",
          "height": 333
        },
        "outputId": "206e551c-b1c6-4984-b38e-33ee7a3b633d"
      },
      "source": [
        "#############################################\n",
        "from sklearn import datasets\n",
        "\n",
        "np.random.seed(5)\n",
        "\n",
        "iris = datasets.load_iris()\n",
        "\n",
        "print(iris.data.shape)\n",
        "print(iris.feature_names)\n",
        "print(iris.target_names)\n",
        "\n",
        "from sklearn.model_selection import train_test_split\n",
        "X_train, X_test, y_train, y_test = train_test_split(iris.data, iris.target, test_size=0.3) # 70% training and 30% test\n",
        "\n",
        "#X = iris.data\n",
        "#Y = iris.target\n",
        "\n",
        "X=X_train\n",
        "Y=y_train\n",
        "\n",
        "plt.scatter(X[:, 2], X[:, 3],\n",
        "               c=Y.astype(np.float), edgecolor='k')"
      ],
      "execution_count": 93,
      "outputs": [
        {
          "output_type": "stream",
          "text": [
            "(150, 4)\n",
            "['sepal length (cm)', 'sepal width (cm)', 'petal length (cm)', 'petal width (cm)']\n",
            "['setosa' 'versicolor' 'virginica']\n"
          ],
          "name": "stdout"
        },
        {
          "output_type": "execute_result",
          "data": {
            "text/plain": [
              "<matplotlib.collections.PathCollection at 0x7ff37c1334e0>"
            ]
          },
          "metadata": {
            "tags": []
          },
          "execution_count": 93
        },
        {
          "output_type": "display_data",
          "data": {
            "image/png": "[encoded data removed]",
            "text/plain": [
              "<Figure size 432x288 with 1 Axes>"
            ]
          },
          "metadata": {
            "tags": [],
            "needs_background": "light"
          }
        }
      ]
    },
    {
      "cell_type": "code",
      "metadata": {
        "colab_type": "code",
        "id": "rDE67r7t_Awe",
        "colab": {}
      },
      "source": [
        ""
      ],
      "execution_count": 93,
      "outputs": []
    },
    {
      "cell_type": "code",
      "metadata": {
        "colab_type": "code",
        "id": "OCWiZLRB_X4B",
        "colab": {}
      },
      "source": [
        "#Work in progress. Just a backup"
      ],
      "execution_count": 94,
      "outputs": []
    },
    {
      "cell_type": "code",
      "metadata": {
        "colab_type": "code",
        "id": "eXslwLALEgkM",
        "colab": {}
      },
      "source": [
        "def accuracy( predicted, true ) :\n",
        "    return list(predicted == true).count(True)/len(predicted)"
      ],
      "execution_count": 95,
      "outputs": []
    },
    {
      "cell_type": "code",
      "metadata": {
        "colab_type": "code",
        "id": "nv00u2awEhHs",
        "colab": {}
      },
      "source": [
        "tree = build_decision_tree( X, Y, 5)"
      ],
      "execution_count": 96,
      "outputs": []
    },
    {
      "cell_type": "code",
      "metadata": {
        "colab_type": "code",
        "id": "be1qn-I3eMCU",
        "colab": {
          "base_uri": "https://localhost:8080/",
          "height": 34
        },
        "outputId": "7bea58c0-72e8-439f-c6dc-f6df529cd8f4"
      },
      "source": [
        "y_ = [ tree_predict(tree, X[i]) for i in range(len(X)) ]\n",
        "accuracy(y_, y_train)"
      ],
      "execution_count": 97,
      "outputs": [
        {
          "output_type": "execute_result",
          "data": {
            "text/plain": [
              "0.9809523809523809"
            ]
          },
          "metadata": {
            "tags": []
          },
          "execution_count": 97
        }
      ]
    },
    {
      "cell_type": "code",
      "metadata": {
        "colab_type": "code",
        "id": "BIAP4rAteRjq",
        "colab": {
          "base_uri": "https://localhost:8080/",
          "height": 34
        },
        "outputId": "952c2b6a-de96-4696-c078-e25cd56446a9"
      },
      "source": [
        "t_ = [ tree_predict(tree, X_test[i]) for i in range(len(X_test)) ]\n",
        "accuracy(t_, y_test)"
      ],
      "execution_count": 98,
      "outputs": [
        {
          "output_type": "execute_result",
          "data": {
            "text/plain": [
              "0.9111111111111111"
            ]
          },
          "metadata": {
            "tags": []
          },
          "execution_count": 98
        }
      ]
    },
    {
      "cell_type": "code",
      "metadata": {
        "colab_type": "code",
        "id": "LnEQMyNPeSNX",
        "colab": {}
      },
      "source": [
        "#############################################################\n",
        "#Cancer dataset"
      ],
      "execution_count": 99,
      "outputs": []
    },
    {
      "cell_type": "code",
      "metadata": {
        "colab_type": "code",
        "id": "1aikYku3edJF",
        "colab": {
          "base_uri": "https://localhost:8080/",
          "height": 204
        },
        "outputId": "39e6fbba-fa89-4121-a051-ee907d8daa92"
      },
      "source": [
        "#ref: https://www.datacamp.com/community/tutorials/principal-component-analysis-in-python\n",
        "from sklearn.datasets import load_breast_cancer\n",
        "b = load_breast_cancer()\n",
        "\n",
        "print(b.data.shape)\n",
        "print(b.feature_names)\n",
        "print(b.target_names)"
      ],
      "execution_count": 141,
      "outputs": [
        {
          "output_type": "stream",
          "text": [
            "(569, 30)\n",
            "['mean radius' 'mean texture' 'mean perimeter' 'mean area'\n",
            " 'mean smoothness' 'mean compactness' 'mean concavity'\n",
            " 'mean concave points' 'mean symmetry' 'mean fractal dimension'\n",
            " 'radius error' 'texture error' 'perimeter error' 'area error'\n",
            " 'smoothness error' 'compactness error' 'concavity error'\n",
            " 'concave points error' 'symmetry error' 'fractal dimension error'\n",
            " 'worst radius' 'worst texture' 'worst perimeter' 'worst area'\n",
            " 'worst smoothness' 'worst compactness' 'worst concavity'\n",
            " 'worst concave points' 'worst symmetry' 'worst fractal dimension']\n",
            "['malignant' 'benign']\n"
          ],
          "name": "stdout"
        }
      ]
    },
    {
      "cell_type": "code",
      "metadata": {
        "colab_type": "code",
        "id": "Z_sbRwPsegqA",
        "colab": {
          "base_uri": "https://localhost:8080/",
          "height": 282
        },
        "outputId": "87cc0ac0-009e-4e90-ca1e-0f7edad7c212"
      },
      "source": [
        "from sklearn.model_selection import train_test_split\n",
        "X_train, X_test, y_train, y_test = train_test_split(b.data, b.target, test_size=0.3) # 70% training and 30% test\n",
        "\n",
        "#X = iris.data\n",
        "#Y = iris.target\n",
        "\n",
        "X=X_train\n",
        "Y=y_train\n",
        "\n",
        "plt.scatter(X[:, 0], X[:, 5],\n",
        "               c=Y.astype(np.float), edgecolor='k')"
      ],
      "execution_count": 142,
      "outputs": [
        {
          "output_type": "execute_result",
          "data": {
            "text/plain": [
              "<matplotlib.collections.PathCollection at 0x7ff37bc9bbe0>"
            ]
          },
          "metadata": {
            "tags": []
          },
          "execution_count": 142
        },
        {
          "output_type": "display_data",
          "data": {
            "image/png": "[encoded data removed]",
            "text/plain": [
              "<Figure size 432x288 with 1 Axes>"
            ]
          },
          "metadata": {
            "tags": [],
            "needs_background": "light"
          }
        }
      ]
    },
    {
      "cell_type": "code",
      "metadata": {
        "colab_type": "code",
        "id": "84QHv5PrejiR",
        "colab": {
          "base_uri": "https://localhost:8080/",
          "height": 34
        },
        "outputId": "bdf270b2-008c-4ecd-b721-aa61e3f34449"
      },
      "source": [
        "tree = build_decision_tree( X, Y, depth=5)\n",
        "y_ = [ tree_predict(tree, X[i]) for i in range(len(X)) ]\n",
        "\n",
        "print( accuracy(y_, y_train) ) #Accuracy on training data"
      ],
      "execution_count": 143,
      "outputs": [
        {
          "output_type": "stream",
          "text": [
            "0.9748743718592965\n"
          ],
          "name": "stdout"
        }
      ]
    },
    {
      "cell_type": "code",
      "metadata": {
        "colab_type": "code",
        "id": "TBUg4Tjleodc",
        "colab": {
          "base_uri": "https://localhost:8080/",
          "height": 34
        },
        "outputId": "99b5a9fb-7815-4582-b892-39a13571fb8d"
      },
      "source": [
        "t_ = [ tree_predict(tree, X_test[i]) for i in range(len(X_test)) ]\n",
        "\n",
        "print( accuracy(t_, y_test) ) #On TEST data"
      ],
      "execution_count": 144,
      "outputs": [
        {
          "output_type": "stream",
          "text": [
            "0.9532163742690059\n"
          ],
          "name": "stdout"
        }
      ]
    },
    {
      "cell_type": "code",
      "metadata": {
        "id": "jJpVJMSpigZp",
        "colab_type": "code",
        "colab": {}
      },
      "source": [
        "#################################################################"
      ],
      "execution_count": 104,
      "outputs": []
    },
    {
      "cell_type": "code",
      "metadata": {
        "id": "qQv4lX1higZr",
        "colab_type": "code",
        "colab": {}
      },
      "source": [
        ""
      ],
      "execution_count": 104,
      "outputs": []
    },
    {
      "cell_type": "code",
      "metadata": {
        "colab_type": "code",
        "id": "EIoltHmDesm0",
        "colab": {}
      },
      "source": [
        "#################################################################\n",
        "# Random forests"
      ],
      "execution_count": 105,
      "outputs": []
    },
    {
      "cell_type": "code",
      "metadata": {
        "colab_type": "code",
        "id": "hg-gGSS-U0fn",
        "colab": {}
      },
      "source": [
        "def build_forest(X, Y, num_trees, max_depth, num_features=None, criterion=information_gain) :\n",
        "    forest = []\n",
        "    for _ in range(num_trees) :\n",
        "        \n",
        "        #First we randomly choose a set of fetures for this tree\n",
        "        #we slect the random features when we create each tree node.\n",
        "\n",
        "        #For boosting we sample the dataset with replace=True\n",
        "        row_list     = np.random.choice( range(X.shape[0]), size=X.shape[0], replace=True)\n",
        "        #split the data according to the boosting\n",
        "        new_x, new_y = data_split( X, Y, row_list ) #, feature_list)\n",
        "        \n",
        "        tree = build_decision_tree( new_x, new_y, max_depth, num_features, criterion)\n",
        "\n",
        "        forest.append(tree)\n",
        "        \n",
        "    return forest"
      ],
      "execution_count": 106,
      "outputs": []
    },
    {
      "cell_type": "code",
      "metadata": {
        "colab_type": "code",
        "id": "yXv7P6hwU6MA",
        "colab": {}
      },
      "source": [
        "def forest_predict(forest, X_test) :\n",
        "    \"\"\"returns the predicted labels\"\"\"\n",
        "\n",
        "    outcome = []\n",
        "    for i in range(len(X_test)) :  \n",
        "        #we collect the p_dicts from each tree for this data point      \n",
        "        all_p_dicts = [ find_leaf_node(tree, X_test[i]).p_dict for tree in forest ]\n",
        "        #take an average of the proability dist\n",
        "        p_dict = average_list_of_p_dict( all_p_dicts )\n",
        "        #Now, find the prediction from this new averaged p_dict\n",
        "        t_ = prediction_from_p_dict( p_dict )\n",
        "        outcome.append(t_)\n",
        "    \n",
        "    return np.array(outcome)\n"
      ],
      "execution_count": 107,
      "outputs": []
    },
    {
      "cell_type": "code",
      "metadata": {
        "colab_type": "code",
        "id": "gyOXXhreVaxe",
        "colab": {}
      },
      "source": [
        "#util function to find the accuracy of the forest classifier        \n",
        "def find_accuracy( forest, X_test, y_test ) : \n",
        "    t_ = forest_predict(forest, X_test)\n",
        "    return accuracy(t_, y_test)"
      ],
      "execution_count": 108,
      "outputs": []
    },
    {
      "cell_type": "code",
      "metadata": {
        "colab_type": "code",
        "id": "cMJ5DZ-wVbZr",
        "colab": {}
      },
      "source": [
        "#We change the number of features and depth of each tree\n",
        "#\n",
        "#Let T be the number of trees \n",
        "num_trees = 30\n",
        "num_features = 4 #we take only few features per tree\n",
        "#boosting     = True\n",
        "max_depth    = 2"
      ],
      "execution_count": 145,
      "outputs": []
    },
    {
      "cell_type": "code",
      "metadata": {
        "colab_type": "code",
        "id": "XCEd59TDV4FN",
        "colab": {}
      },
      "source": [
        "np.random.seed(1)\n",
        "forest = build_forest(X_train,y_train, num_trees,  max_depth, num_features)"
      ],
      "execution_count": 146,
      "outputs": []
    },
    {
      "cell_type": "code",
      "metadata": {
        "colab_type": "code",
        "id": "1_RFhNrNWTtg",
        "colab": {
          "base_uri": "https://localhost:8080/",
          "height": 34
        },
        "outputId": "fc12c7ce-a01c-4172-dd2b-a167021c5e00"
      },
      "source": [
        "find_accuracy( forest, X_test, y_test)"
      ],
      "execution_count": 147,
      "outputs": [
        {
          "output_type": "execute_result",
          "data": {
            "text/plain": [
              "0.9181286549707602"
            ]
          },
          "metadata": {
            "tags": []
          },
          "execution_count": 147
        }
      ]
    },
    {
      "cell_type": "code",
      "metadata": {
        "id": "lLlVzNL9k0DH",
        "colab_type": "code",
        "colab": {
          "base_uri": "https://localhost:8080/",
          "height": 34
        },
        "outputId": "4363cdbe-25d9-40ed-f937-b6bbf5b7a980"
      },
      "source": [
        "#with GINI index\n",
        "np.random.seed(1)\n",
        "forest = build_forest(X_train,y_train, num_trees,  max_depth, num_features, gini_gain)\n",
        "find_accuracy( forest, X_test, y_test)"
      ],
      "execution_count": 148,
      "outputs": [
        {
          "output_type": "execute_result",
          "data": {
            "text/plain": [
              "0.9181286549707602"
            ]
          },
          "metadata": {
            "tags": []
          },
          "execution_count": 148
        }
      ]
    },
    {
      "cell_type": "code",
      "metadata": {
        "colab_type": "code",
        "id": "b2fjPKUxWs8T",
        "colab": {}
      },
      "source": [
        "#############################################################################"
      ],
      "execution_count": 113,
      "outputs": []
    },
    {
      "cell_type": "code",
      "metadata": {
        "colab_type": "code",
        "id": "r-RZqJobVzy0",
        "colab": {}
      },
      "source": [
        "####### RF from Sklearn ######################################################"
      ],
      "execution_count": 114,
      "outputs": []
    },
    {
      "cell_type": "code",
      "metadata": {
        "colab_type": "code",
        "id": "2mKY5tGjViVA",
        "colab": {
          "base_uri": "https://localhost:8080/",
          "height": 153
        },
        "outputId": "32fc8b13-8b4e-43ec-ce30-75cc54be4ea0"
      },
      "source": [
        "from sklearn.ensemble import RandomForestClassifier\n",
        "clf = RandomForestClassifier(max_depth=3, max_features=3, random_state=0, criterion='entropy', n_estimators=10)\n",
        "\n",
        "clf.fit(X_train,y_train)"
      ],
      "execution_count": 115,
      "outputs": [
        {
          "output_type": "execute_result",
          "data": {
            "text/plain": [
              "RandomForestClassifier(bootstrap=True, ccp_alpha=0.0, class_weight=None,\n",
              "                       criterion='entropy', max_depth=3, max_features=3,\n",
              "                       max_leaf_nodes=None, max_samples=None,\n",
              "                       min_impurity_decrease=0.0, min_impurity_split=None,\n",
              "                       min_samples_leaf=1, min_samples_split=2,\n",
              "                       min_weight_fraction_leaf=0.0, n_estimators=10,\n",
              "                       n_jobs=None, oob_score=False, random_state=0, verbose=0,\n",
              "                       warm_start=False)"
            ]
          },
          "metadata": {
            "tags": []
          },
          "execution_count": 115
        }
      ]
    },
    {
      "cell_type": "code",
      "metadata": {
        "colab_type": "code",
        "id": "1nYgCODeVqGs",
        "colab": {
          "base_uri": "https://localhost:8080/",
          "height": 34
        },
        "outputId": "457cefed-5671-4294-9c4e-12647c139d5d"
      },
      "source": [
        "t_ = clf.predict(X_test)\n",
        "print( accuracy(t_, y_test) )"
      ],
      "execution_count": 116,
      "outputs": [
        {
          "output_type": "stream",
          "text": [
            "0.9590643274853801\n"
          ],
          "name": "stdout"
        }
      ]
    },
    {
      "cell_type": "code",
      "metadata": {
        "colab_type": "code",
        "id": "pMh_Wf8kVwBo",
        "colab": {}
      },
      "source": [
        ""
      ],
      "execution_count": 116,
      "outputs": []
    }
  ]
}