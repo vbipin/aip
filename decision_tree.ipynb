{
  "nbformat": 4,
  "nbformat_minor": 0,
  "metadata": {
    "colab": {
      "name": "decision_tree.ipynb",
      "provenance": [],
      "collapsed_sections": [],
      "authorship_tag": "ABX9TyMj4x8Dw1CZX8ABd27g5Nrv",
      "include_colab_link": true
    },
    "kernelspec": {
      "name": "python3",
      "display_name": "Python 3"
    }
  },
  "cells": [
    {
      "cell_type": "markdown",
      "metadata": {
        "id": "view-in-github",
        "colab_type": "text"
      },
      "source": [
        "<a href=\"https://colab.research.google.com/github/vbipin/aip/blob/master/decision_tree.ipynb\" target=\"_parent\"><img src=\"https://colab.research.google.com/assets/colab-badge.svg\" alt=\"Open In Colab\"/></a>"
      ]
    },
    {
      "cell_type": "code",
      "metadata": {
        "id": "DP77VIW1_k02",
        "colab_type": "code",
        "colab": {}
      },
      "source": [
        "#########\n",
        "#This notebook has both decision tree and the Random forest classifier\n",
        "#########"
      ],
      "execution_count": 39,
      "outputs": []
    },
    {
      "cell_type": "code",
      "metadata": {
        "id": "KzWsQBsQ8oxr",
        "colab_type": "code",
        "colab": {}
      },
      "source": [
        "#Ref: https://www.cs.ubc.ca/~nando/540-2013/lectures.html\n",
        "#lectures on Decision trees and Random forests\n",
        "#http://www.cs.ubc.ca/~nando/540-2013/lectures/l8.pdf\n",
        "#http://www.cs.ubc.ca/~nando/540-2013/lectures/l9.pdf\n",
        "\n",
        "#Ref: Paper Criminisi et al, 2011\n",
        "#https://www.microsoft.com/en-us/research/wp-content/uploads/2016/02/decisionForests_MSR_TR_2011_114.pdf"
      ],
      "execution_count": 40,
      "outputs": []
    },
    {
      "cell_type": "code",
      "metadata": {
        "id": "Pp7CDNVS_o-W",
        "colab_type": "code",
        "colab": {}
      },
      "source": [
        "#In this we are exploring the decision tree algorithm\n",
        "%matplotlib inline\n",
        "\n",
        "import matplotlib\n",
        "import numpy as np\n",
        "import matplotlib.pyplot as plt"
      ],
      "execution_count": 41,
      "outputs": []
    },
    {
      "cell_type": "code",
      "metadata": {
        "id": "8VjCUylV-Wyn",
        "colab_type": "code",
        "colab": {}
      },
      "source": [
        "#Some util functions\n",
        "from collections import Counter\n",
        "def entropy( P ) :    \n",
        "    #make sure that the incoming is a probability dist\n",
        "    assert( abs(sum(P) - 1) < 0.0001 ) #sum(P) must be 1; sometimes because of float values it need not be exactly 1\n",
        "    \n",
        "    sum_all = 0\n",
        "    for p in P :\n",
        "        sum_all += -p * np.log2(p) #entropy is the sum of -p*log(p)\n",
        "    \n",
        "    return sum_all\n",
        "\n",
        "def p_from_count( n_count ) :\n",
        "    #print(n_count)\n",
        "    N = sum(n_count)\n",
        "    return [i/N for i in n_count]\n",
        "\n",
        "def p_from_n_items( n_items ) :\n",
        "    \"\"\"count the items and build the probability distribution\"\"\"\n",
        "    c = Counter(n_items)\n",
        "    return p_from_count([c[i] for i in sorted(c.keys())])\n",
        "\n",
        "def p_dict_from_n_items( n_items ) :\n",
        "    \"\"\"return a dict of {class: probability, ...}\"\"\"\n",
        "    c = Counter(n_items)\n",
        "    N = sum(c.values())\n",
        "    p_dict = {label:count/N for label,count in c.items() }\n",
        "    return p_dict\n",
        "\n",
        "def entropy_from_n_items( n_items ) :\n",
        "    \"\"\"entropy form a list like [0,0,1,0,2,2]\"\"\"\n",
        "    return entropy( p_from_n_items( n_items ) )\n",
        "\n",
        "\n",
        "def data_split( X, Y, index_list ) :\n",
        "    \"\"\"Returns new X,Y at the indexs\"\"\"\n",
        "    return X[index_list], Y[index_list] #worls only with numpy arrays\n",
        "\n"
      ],
      "execution_count": 42,
      "outputs": []
    },
    {
      "cell_type": "code",
      "metadata": {
        "id": "R0RIoZ1U0R0a",
        "colab_type": "code",
        "colab": {}
      },
      "source": [
        "#some more utils for random forests\n",
        "\n",
        "def argmax_of_p_dict( p_dict ) :\n",
        "    \"\"\"returns the key to the max value in the dict\"\"\"\n",
        "    arg_max_value_and_key = sorted([ (v,k) for k,v in p_dict.items() ])[-1]\n",
        "    return arg_max_value_and_key[1] #return just the key\n",
        "\n",
        "\n",
        "def average_list_of_p_dict( list_of_dict ) :\n",
        "    \"\"\"make an average of lot of dicts\"\"\"\n",
        "    new_dict = {}\n",
        "    for d in list_of_dict :\n",
        "        for k,v in d.items() :\n",
        "            if k in new_dict :\n",
        "                new_dict[k] += v\n",
        "            else :\n",
        "                new_dict[k] = v\n",
        "    T = len(list_of_dict)\n",
        "    return {k:v/T for k,v in new_dict.items()} #return the average"
      ],
      "execution_count": 43,
      "outputs": []
    },
    {
      "cell_type": "code",
      "metadata": {
        "id": "mtFCxBGY-cTG",
        "colab_type": "code",
        "colab": {}
      },
      "source": [
        "#we split a continuous variable according to a value in to left and right trees\n",
        "#left branch is < \n",
        "\n",
        "def split_continuous_feature( X, feature_index, split_value ) :\n",
        "    left_index = []\n",
        "    right_index = []\n",
        "    for i,x in enumerate(X) :\n",
        "        if x[ feature_index ] < split_value :\n",
        "            left_index.append(i) #we just store the index of the data points\n",
        "        else :\n",
        "            right_index.append(i)\n",
        "    return left_index, right_index"
      ],
      "execution_count": 44,
      "outputs": []
    },
    {
      "cell_type": "code",
      "metadata": {
        "id": "oFJM0gJ7-haI",
        "colab_type": "code",
        "colab": {}
      },
      "source": [
        "#information gain\n",
        "\n",
        "def information_gain( parent, child_list ) :\n",
        "    \"\"\" parent is the list of y values\n",
        "        child_list is the list of y values for each child node\n",
        "    \"\"\"\n",
        "    parent_entropy = entropy_from_n_items(parent)\n",
        "    #for expectation we need each child probability\n",
        "    child_probability = [ len(c)/len(parent)      for c in child_list]\n",
        "    child_entropy     = [ entropy_from_n_items(c) for c in child_list]\n",
        "    children_expected_entropy = sum( [child_probability[i] * child_entropy[i] for i in range(len(child_list)) ] )\n",
        "    \n",
        "    return parent_entropy - children_expected_entropy"
      ],
      "execution_count": 45,
      "outputs": []
    },
    {
      "cell_type": "code",
      "metadata": {
        "id": "3qhb_3d7-kNU",
        "colab_type": "code",
        "colab": {}
      },
      "source": [
        "X = np.array([ \n",
        "    [1,1,3], \n",
        "    [2,1,5],\n",
        "    [1,2,5],\n",
        "    [3,1,7],\n",
        "    [2,2.5,6],\n",
        "    [3,3,2],\n",
        "])\n",
        "Y = np.array([1,1,1,1,0,0])"
      ],
      "execution_count": 46,
      "outputs": []
    },
    {
      "cell_type": "code",
      "metadata": {
        "id": "xNeSnY1A-uKz",
        "colab_type": "code",
        "colab": {
          "base_uri": "https://localhost:8080/",
          "height": 282
        },
        "outputId": "feb4101f-94eb-450e-f094-56737f3dcbb8"
      },
      "source": [
        "plt.scatter(X[:,0], X[:,1], c=Y)"
      ],
      "execution_count": 47,
      "outputs": [
        {
          "output_type": "execute_result",
          "data": {
            "text/plain": [
              "<matplotlib.collections.PathCollection at 0x7efc3f5159b0>"
            ]
          },
          "metadata": {
            "tags": []
          },
          "execution_count": 47
        },
        {
          "output_type": "display_data",
          "data": {
            "image/png": "[encoded data removed]",
            "text/plain": [
              "<Figure size 432x288 with 1 Axes>"
            ]
          },
          "metadata": {
            "tags": [],
            "needs_background": "light"
          }
        }
      ]
    },
    {
      "cell_type": "code",
      "metadata": {
        "id": "j3x3X_kQ-v-y",
        "colab_type": "code",
        "colab": {
          "base_uri": "https://localhost:8080/",
          "height": 34
        },
        "outputId": "ea6aef1b-a935-4a7c-e4f4-f73784b44094"
      },
      "source": [
        "l_index,r_index =split_continuous_feature(X, feature_index=1, split_value=2.2)\n",
        "L = Y[l_index]\n",
        "R = Y[r_index]\n",
        "information_gain(Y,[L,R])"
      ],
      "execution_count": 48,
      "outputs": [
        {
          "output_type": "execute_result",
          "data": {
            "text/plain": [
              "0.9182958340544896"
            ]
          },
          "metadata": {
            "tags": []
          },
          "execution_count": 48
        }
      ]
    },
    {
      "cell_type": "code",
      "metadata": {
        "id": "i56UG0yh-7lS",
        "colab_type": "code",
        "colab": {}
      },
      "source": [
        "########################################################################"
      ],
      "execution_count": 49,
      "outputs": []
    },
    {
      "cell_type": "code",
      "metadata": {
        "id": "9VZj6hyS_G5I",
        "colab_type": "code",
        "colab": {}
      },
      "source": [
        "def find_IG_of_all_splits(X, Y, feature_index) :\n",
        "    \"\"\"returns the IG of all the splits\"\"\"\n",
        "    ig_list = []\n",
        "    for split_value in X[:,feature_index] : #we split on all the values of this feature\n",
        "        l_index,r_index =split_continuous_feature(X, feature_index, split_value)\n",
        "        L = Y[l_index]\n",
        "        R = Y[r_index]\n",
        "        if len(L) and len(R) :\n",
        "            ig_list.append( information_gain(Y,[L,R]) )\n",
        "        else :\n",
        "            if len(L) :\n",
        "                ig_list.append( information_gain(Y,[L]) )\n",
        "            else :\n",
        "                ig_list.append( information_gain(Y,[R]) ) \n",
        "    return ig_list"
      ],
      "execution_count": 50,
      "outputs": []
    },
    {
      "cell_type": "code",
      "metadata": {
        "id": "FSpbr8ta_IVd",
        "colab_type": "code",
        "colab": {}
      },
      "source": [
        "def find_best_split(X,Y, feature_list=None ) :\n",
        "    \"\"\"Find the best split among the given features\"\"\"\n",
        "    a = []\n",
        "    if feature_list is None :\n",
        "        feature_list = range(len(X[0])) #all the features\n",
        "    for feature_index in feature_list :\n",
        "        #for this feature, we find the information_gain for all the splits\n",
        "        ig = find_IG_of_all_splits(X,Y,feature_index)\n",
        "        max_ig = max(ig)\n",
        "        max_ig_index = ig.index(max_ig) #find tha dta point with the best split.\n",
        "        split_value = X[:,feature_index][max_ig_index]\n",
        "        #store ig, feature and the value on which we did the split.\n",
        "        a.append((max_ig,feature_index,split_value))\n",
        "\n",
        "    return sorted(a) #this will be sorted on ig; so last one will be the best"
      ],
      "execution_count": 51,
      "outputs": []
    },
    {
      "cell_type": "code",
      "metadata": {
        "id": "U4PHMnLV_OGh",
        "colab_type": "code",
        "colab": {}
      },
      "source": [
        "#Tree node\n",
        "class node :\n",
        "    def __init__(self, feature_index, split_value, p_dict) :\n",
        "        self.feature_index = feature_index\n",
        "        self.split_value   = split_value\n",
        "        self.p_dict        = p_dict # { class: probability }\n",
        "        self.L = None  # < split_value\n",
        "        self.R = None  # >= split_value"
      ],
      "execution_count": 52,
      "outputs": []
    },
    {
      "cell_type": "code",
      "metadata": {
        "id": "KHoYu6YY_Qi1",
        "colab_type": "code",
        "colab": {}
      },
      "source": [
        "def build_decision_tree( PX, PY, depth, num_features=None) :\n",
        "    if depth <= 0 :\n",
        "        return None\n",
        "    #for each node we create a sepeare list of features up to a max of num_features.\n",
        "    #ref: slide 6 of CPSC 540 http://www.cs.ubc.ca/~nando/540-2013/lectures/l9.pdf\n",
        "    if num_features is None : #we take all features\n",
        "        feature_list = list(range(PX.shape[1]))\n",
        "    else :\n",
        "        feature_list = np.random.choice( range(PX.shape[1]), num_features, replace=False)\n",
        "   \n",
        "    _,f,v = find_best_split(PX,PY, feature_list)[-1] #last one is the best\n",
        "    p = p_dict_from_n_items( PY )\n",
        "    tree = node( f, v, p )\n",
        "    \n",
        "    if len(p.keys()) <= 1 :\n",
        "        return tree #we dont need to split this node\n",
        "        \n",
        "    l_index,r_index =split_continuous_feature(PX, feature_index=f, split_value=v)\n",
        "    if len(l_index) > 0 :\n",
        "        LX, LY = data_split(PX,PY,l_index)\n",
        "        tree.L = build_decision_tree( LX, LY, depth-1 )\n",
        "    \n",
        "    if len(r_index) > 0 :   \n",
        "        RX, RY = data_split(PX,PY,r_index)\n",
        "        tree.R = build_decision_tree( RX, RY, depth-1 )\n",
        "    \n",
        "    return tree\n",
        "\n",
        "def apply_tree_node( node, x ) :\n",
        "    prediction = argmax_of_p_dict(node.p_dict)\n",
        "    if  len(node.p_dict.keys()) == 1 :\n",
        "        return None, prediction, node.p_dict\n",
        "    \n",
        "    if x[node.feature_index] < node.split_value : #left tree\n",
        "        return node.L, prediction, node.p_dict\n",
        "    else :\n",
        "        return node.R, prediction, node.p_dict\n",
        "\n",
        "def tree_predict( node, x ) :\n",
        "    \"\"\"This will return the label of the data point x\"\"\"\n",
        "    branch, prediction, p_dict = apply_tree_node(node,x)\n",
        "    if branch is None : #if leaf node\n",
        "        return prediction, p_dict\n",
        "    #else, go down the tree\n",
        "    return tree_predict(branch, x)\n",
        "\n",
        "def predict( node, x ) :\n",
        "    prediction, p_dict = tree_predict( node, x )\n",
        "    return prediction"
      ],
      "execution_count": 53,
      "outputs": []
    },
    {
      "cell_type": "code",
      "metadata": {
        "id": "LKJmXF6j_AE5",
        "colab_type": "code",
        "colab": {
          "base_uri": "https://localhost:8080/",
          "height": 333
        },
        "outputId": "d220d022-8736-4875-bb7b-fc7bf0b1d374"
      },
      "source": [
        "#############################################\n",
        "from sklearn import datasets\n",
        "\n",
        "np.random.seed(5)\n",
        "\n",
        "iris = datasets.load_iris()\n",
        "\n",
        "print(iris.data.shape)\n",
        "print(iris.feature_names)\n",
        "print(iris.target_names)\n",
        "\n",
        "from sklearn.model_selection import train_test_split\n",
        "X_train, X_test, y_train, y_test = train_test_split(iris.data, iris.target, test_size=0.3) # 70% training and 30% test\n",
        "\n",
        "#X = iris.data\n",
        "#Y = iris.target\n",
        "\n",
        "X=X_train\n",
        "Y=y_train\n",
        "\n",
        "plt.scatter(X[:, 2], X[:, 3],\n",
        "               c=Y.astype(np.float), edgecolor='k')"
      ],
      "execution_count": 54,
      "outputs": [
        {
          "output_type": "stream",
          "text": [
            "(150, 4)\n",
            "['sepal length (cm)', 'sepal width (cm)', 'petal length (cm)', 'petal width (cm)']\n",
            "['setosa' 'versicolor' 'virginica']\n"
          ],
          "name": "stdout"
        },
        {
          "output_type": "execute_result",
          "data": {
            "text/plain": [
              "<matplotlib.collections.PathCollection at 0x7efc3f496198>"
            ]
          },
          "metadata": {
            "tags": []
          },
          "execution_count": 54
        },
        {
          "output_type": "display_data",
          "data": {
            "image/png": "[encoded data removed]",
            "text/plain": [
              "<Figure size 432x288 with 1 Axes>"
            ]
          },
          "metadata": {
            "tags": [],
            "needs_background": "light"
          }
        }
      ]
    },
    {
      "cell_type": "code",
      "metadata": {
        "id": "rDE67r7t_Awe",
        "colab_type": "code",
        "colab": {}
      },
      "source": [
        ""
      ],
      "execution_count": 54,
      "outputs": []
    },
    {
      "cell_type": "code",
      "metadata": {
        "id": "OCWiZLRB_X4B",
        "colab_type": "code",
        "colab": {}
      },
      "source": [
        "#Work in progress. Just a backup"
      ],
      "execution_count": 55,
      "outputs": []
    },
    {
      "cell_type": "code",
      "metadata": {
        "id": "eXslwLALEgkM",
        "colab_type": "code",
        "colab": {}
      },
      "source": [
        "def accuracy( predicted, true ) :\n",
        "    return list(predicted == true).count(True)/len(predicted)"
      ],
      "execution_count": 56,
      "outputs": []
    },
    {
      "cell_type": "code",
      "metadata": {
        "id": "nv00u2awEhHs",
        "colab_type": "code",
        "colab": {}
      },
      "source": [
        "tree = build_decision_tree( X, Y, 4)"
      ],
      "execution_count": 57,
      "outputs": []
    },
    {
      "cell_type": "code",
      "metadata": {
        "id": "be1qn-I3eMCU",
        "colab_type": "code",
        "colab": {
          "base_uri": "https://localhost:8080/",
          "height": 34
        },
        "outputId": "6dbafdec-6c20-4940-cab1-0cbb6c66e8dd"
      },
      "source": [
        "y_ = [ predict(tree, X[i]) for i in range(len(X)) ]\n",
        "accuracy(y_, y_train)"
      ],
      "execution_count": 58,
      "outputs": [
        {
          "output_type": "execute_result",
          "data": {
            "text/plain": [
              "0.9714285714285714"
            ]
          },
          "metadata": {
            "tags": []
          },
          "execution_count": 58
        }
      ]
    },
    {
      "cell_type": "code",
      "metadata": {
        "id": "BIAP4rAteRjq",
        "colab_type": "code",
        "colab": {
          "base_uri": "https://localhost:8080/",
          "height": 34
        },
        "outputId": "3588aff8-8bd6-49ff-ee31-ee89f8041266"
      },
      "source": [
        "t_ = [ predict(tree, X_test[i]) for i in range(len(X_test)) ]\n",
        "accuracy(t_, y_test)"
      ],
      "execution_count": 59,
      "outputs": [
        {
          "output_type": "execute_result",
          "data": {
            "text/plain": [
              "0.9333333333333333"
            ]
          },
          "metadata": {
            "tags": []
          },
          "execution_count": 59
        }
      ]
    },
    {
      "cell_type": "code",
      "metadata": {
        "id": "LnEQMyNPeSNX",
        "colab_type": "code",
        "colab": {}
      },
      "source": [
        "#############################################################\n",
        "#Another dataset"
      ],
      "execution_count": 60,
      "outputs": []
    },
    {
      "cell_type": "code",
      "metadata": {
        "id": "1aikYku3edJF",
        "colab_type": "code",
        "colab": {
          "base_uri": "https://localhost:8080/",
          "height": 204
        },
        "outputId": "3063d2e4-5c2f-4413-9107-5e42dabab85a"
      },
      "source": [
        "#ref: https://www.datacamp.com/community/tutorials/principal-component-analysis-in-python\n",
        "from sklearn.datasets import load_breast_cancer\n",
        "b = load_breast_cancer()\n",
        "\n",
        "print(b.data.shape)\n",
        "print(b.feature_names)\n",
        "print(b.target_names)"
      ],
      "execution_count": 61,
      "outputs": [
        {
          "output_type": "stream",
          "text": [
            "(569, 30)\n",
            "['mean radius' 'mean texture' 'mean perimeter' 'mean area'\n",
            " 'mean smoothness' 'mean compactness' 'mean concavity'\n",
            " 'mean concave points' 'mean symmetry' 'mean fractal dimension'\n",
            " 'radius error' 'texture error' 'perimeter error' 'area error'\n",
            " 'smoothness error' 'compactness error' 'concavity error'\n",
            " 'concave points error' 'symmetry error' 'fractal dimension error'\n",
            " 'worst radius' 'worst texture' 'worst perimeter' 'worst area'\n",
            " 'worst smoothness' 'worst compactness' 'worst concavity'\n",
            " 'worst concave points' 'worst symmetry' 'worst fractal dimension']\n",
            "['malignant' 'benign']\n"
          ],
          "name": "stdout"
        }
      ]
    },
    {
      "cell_type": "code",
      "metadata": {
        "id": "Z_sbRwPsegqA",
        "colab_type": "code",
        "colab": {
          "base_uri": "https://localhost:8080/",
          "height": 282
        },
        "outputId": "95b65eb4-d2ad-4c17-e4df-3a92d9f7a90c"
      },
      "source": [
        "from sklearn.model_selection import train_test_split\n",
        "X_train, X_test, y_train, y_test = train_test_split(b.data, b.target, test_size=0.3) # 70% training and 30% test\n",
        "\n",
        "#X = iris.data\n",
        "#Y = iris.target\n",
        "\n",
        "X=X_train\n",
        "Y=y_train\n",
        "\n",
        "plt.scatter(X[:, 0], X[:, 5],\n",
        "               c=Y.astype(np.float), edgecolor='k')"
      ],
      "execution_count": 62,
      "outputs": [
        {
          "output_type": "execute_result",
          "data": {
            "text/plain": [
              "<matplotlib.collections.PathCollection at 0x7efc3f471fd0>"
            ]
          },
          "metadata": {
            "tags": []
          },
          "execution_count": 62
        },
        {
          "output_type": "display_data",
          "data": {
            "image/png": "[encoded data removed]",
            "text/plain": [
              "<Figure size 432x288 with 1 Axes>"
            ]
          },
          "metadata": {
            "tags": [],
            "needs_background": "light"
          }
        }
      ]
    },
    {
      "cell_type": "code",
      "metadata": {
        "id": "84QHv5PrejiR",
        "colab_type": "code",
        "colab": {
          "base_uri": "https://localhost:8080/",
          "height": 34
        },
        "outputId": "c70f8f92-c88e-4d4d-d6dc-956d6370485e"
      },
      "source": [
        "tree = build_decision_tree( X, Y, depth=5)\n",
        "\n",
        "y_ = [ predict(tree, X[i]) for i in range(len(X)) ]\n",
        "\n",
        "accuracy(y_, y_train)"
      ],
      "execution_count": 63,
      "outputs": [
        {
          "output_type": "execute_result",
          "data": {
            "text/plain": [
              "0.9824120603015075"
            ]
          },
          "metadata": {
            "tags": []
          },
          "execution_count": 63
        }
      ]
    },
    {
      "cell_type": "code",
      "metadata": {
        "id": "TBUg4Tjleodc",
        "colab_type": "code",
        "colab": {
          "base_uri": "https://localhost:8080/",
          "height": 34
        },
        "outputId": "13ddbd05-cdca-414e-d350-31bc4590e274"
      },
      "source": [
        "t_ = [ predict(tree, X_test[i]) for i in range(len(X_test)) ]\n",
        "\n",
        "accuracy(t_, y_test)"
      ],
      "execution_count": 64,
      "outputs": [
        {
          "output_type": "execute_result",
          "data": {
            "text/plain": [
              "0.9590643274853801"
            ]
          },
          "metadata": {
            "tags": []
          },
          "execution_count": 64
        }
      ]
    },
    {
      "cell_type": "code",
      "metadata": {
        "id": "EIoltHmDesm0",
        "colab_type": "code",
        "colab": {}
      },
      "source": [
        "#################################################################\n",
        "# Random forests"
      ],
      "execution_count": 65,
      "outputs": []
    },
    {
      "cell_type": "code",
      "metadata": {
        "id": "hg-gGSS-U0fn",
        "colab_type": "code",
        "colab": {}
      },
      "source": [
        "def build_forest(X, Y, num_trees, num_features, max_depth) :\n",
        "    forest = []\n",
        "    for _ in range(num_trees) :\n",
        "        \n",
        "        #First we randomly choose a set of fetures for this tree\n",
        "        #we slect the random features when we create each tree node.\n",
        "\n",
        "        #For boosting we sample the dataset with replace=True\n",
        "        row_list     = np.random.choice( range(X.shape[0]), size=X.shape[0], replace=True)\n",
        "        #split the data according to the boosting\n",
        "        new_x, new_y = data_split( X, Y, row_list ) #, feature_list)\n",
        "        \n",
        "        tree = build_decision_tree( new_x, new_y, max_depth, num_features)\n",
        "\n",
        "        forest.append(tree)\n",
        "        \n",
        "    return forest"
      ],
      "execution_count": 90,
      "outputs": []
    },
    {
      "cell_type": "code",
      "metadata": {
        "id": "yXv7P6hwU6MA",
        "colab_type": "code",
        "colab": {}
      },
      "source": [
        "def forest_predict(forest, X_test) :\n",
        "    \"\"\"returns the predicted labels\"\"\"\n",
        "\n",
        "    outcome = []\n",
        "    for i in range(len(X_test)) :  \n",
        "        #we collect the p_dicts from each tree for this data point      \n",
        "        all_p_dicts = [ tree_predict(tree, X_test[i])[1] for tree in forest ]\n",
        "        #take an average of the proability dist\n",
        "        p_dict = average_list_of_p_dict( all_p_dicts )\n",
        "        #Now, find the prediction from this new averaged p_dict\n",
        "        t_ = argmax_of_p_dict( p_dict )\n",
        "        outcome.append(t_)\n",
        "    \n",
        "    return np.array(outcome)\n"
      ],
      "execution_count": 67,
      "outputs": []
    },
    {
      "cell_type": "code",
      "metadata": {
        "id": "gyOXXhreVaxe",
        "colab_type": "code",
        "colab": {}
      },
      "source": [
        "#util function to find the accuracy of the forest classifier        \n",
        "def find_accuracy( forest, X_test, y_test ) : \n",
        "    t_ = forest_predict(forest, X_test)\n",
        "    return accuracy(t_, y_test)"
      ],
      "execution_count": 68,
      "outputs": []
    },
    {
      "cell_type": "code",
      "metadata": {
        "id": "cMJ5DZ-wVbZr",
        "colab_type": "code",
        "colab": {}
      },
      "source": [
        "#We change the number of features and depth of each tree\n",
        "#\n",
        "#Let T be the number of trees \n",
        "num_trees = 10\n",
        "num_features = 3 #we take only few features per tree\n",
        "#boosting     = True\n",
        "max_depth    = 3"
      ],
      "execution_count": 87,
      "outputs": []
    },
    {
      "cell_type": "code",
      "metadata": {
        "id": "XCEd59TDV4FN",
        "colab_type": "code",
        "colab": {}
      },
      "source": [
        "forest = build_forest(X_train,y_train,num_trees, num_features, max_depth)"
      ],
      "execution_count": 91,
      "outputs": []
    },
    {
      "cell_type": "code",
      "metadata": {
        "id": "1_RFhNrNWTtg",
        "colab_type": "code",
        "colab": {
          "base_uri": "https://localhost:8080/",
          "height": 34
        },
        "outputId": "a9446406-c29f-43bf-8ddf-5ce2bc0dbabb"
      },
      "source": [
        "find_accuracy( forest, X_test, y_test)"
      ],
      "execution_count": 92,
      "outputs": [
        {
          "output_type": "execute_result",
          "data": {
            "text/plain": [
              "0.9590643274853801"
            ]
          },
          "metadata": {
            "tags": []
          },
          "execution_count": 92
        }
      ]
    },
    {
      "cell_type": "code",
      "metadata": {
        "id": "b2fjPKUxWs8T",
        "colab_type": "code",
        "colab": {}
      },
      "source": [
        "#############################################################################"
      ],
      "execution_count": 72,
      "outputs": []
    },
    {
      "cell_type": "code",
      "metadata": {
        "id": "r-RZqJobVzy0",
        "colab_type": "code",
        "colab": {}
      },
      "source": [
        "####### RF from Sklearn ######################################################"
      ],
      "execution_count": 73,
      "outputs": []
    },
    {
      "cell_type": "code",
      "metadata": {
        "id": "2mKY5tGjViVA",
        "colab_type": "code",
        "colab": {
          "base_uri": "https://localhost:8080/",
          "height": 153
        },
        "outputId": "30ee7a96-8045-4c36-e8db-0eb0f7bbad60"
      },
      "source": [
        "from sklearn.ensemble import RandomForestClassifier\n",
        "clf = RandomForestClassifier(max_depth=2, max_features=3, random_state=0, criterion='entropy', n_estimators=10)\n",
        "\n",
        "clf.fit(X_train,y_train)"
      ],
      "execution_count": 85,
      "outputs": [
        {
          "output_type": "execute_result",
          "data": {
            "text/plain": [
              "RandomForestClassifier(bootstrap=True, ccp_alpha=0.0, class_weight=None,\n",
              "                       criterion='entropy', max_depth=2, max_features=3,\n",
              "                       max_leaf_nodes=None, max_samples=None,\n",
              "                       min_impurity_decrease=0.0, min_impurity_split=None,\n",
              "                       min_samples_leaf=1, min_samples_split=2,\n",
              "                       min_weight_fraction_leaf=0.0, n_estimators=10,\n",
              "                       n_jobs=None, oob_score=False, random_state=0, verbose=0,\n",
              "                       warm_start=False)"
            ]
          },
          "metadata": {
            "tags": []
          },
          "execution_count": 85
        }
      ]
    },
    {
      "cell_type": "code",
      "metadata": {
        "id": "1nYgCODeVqGs",
        "colab_type": "code",
        "colab": {
          "base_uri": "https://localhost:8080/",
          "height": 34
        },
        "outputId": "d9400367-c85a-41cf-c827-9cc3227a4b69"
      },
      "source": [
        "t_ = clf.predict(X_test)\n",
        "print( accuracy(t_, y_test) )"
      ],
      "execution_count": 86,
      "outputs": [
        {
          "output_type": "stream",
          "text": [
            "0.9707602339181286\n"
          ],
          "name": "stdout"
        }
      ]
    },
    {
      "cell_type": "code",
      "metadata": {
        "id": "pMh_Wf8kVwBo",
        "colab_type": "code",
        "colab": {}
      },
      "source": [
        ""
      ],
      "execution_count": 75,
      "outputs": []
    }
  ]
}