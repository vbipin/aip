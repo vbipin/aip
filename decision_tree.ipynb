{
  "nbformat": 4,
  "nbformat_minor": 0,
  "metadata": {
    "colab": {
      "name": "decision_tree.ipynb",
      "provenance": [],
      "collapsed_sections": [],
      "authorship_tag": "ABX9TyME0ymst06ppNvR53N/4VJs",
      "include_colab_link": true
    },
    "kernelspec": {
      "name": "python3",
      "display_name": "Python 3"
    }
  },
  "cells": [
    {
      "cell_type": "markdown",
      "metadata": {
        "id": "view-in-github",
        "colab_type": "text"
      },
      "source": [
        "<a href=\"https://colab.research.google.com/github/vbipin/aip/blob/master/decision_tree.ipynb\" target=\"_parent\"><img src=\"https://colab.research.google.com/assets/colab-badge.svg\" alt=\"Open In Colab\"/></a>"
      ]
    },
    {
      "cell_type": "code",
      "metadata": {
        "id": "1T85csd5-LzA",
        "colab_type": "code",
        "colab": {}
      },
      "source": [
        ""
      ],
      "execution_count": 1,
      "outputs": []
    },
    {
      "cell_type": "code",
      "metadata": {
        "id": "DP77VIW1_k02",
        "colab_type": "code",
        "colab": {}
      },
      "source": [
        "#########\n",
        "#Work in progress. Just a backup\n",
        "#########"
      ],
      "execution_count": null,
      "outputs": []
    },
    {
      "cell_type": "code",
      "metadata": {
        "id": "Pp7CDNVS_o-W",
        "colab_type": "code",
        "colab": {}
      },
      "source": [
        "#In this we are exploring the decision tree algorithm\n",
        "%matplotlib inline\n",
        "\n",
        "import matplotlib\n",
        "import numpy as np\n",
        "import matplotlib.pyplot as plt"
      ],
      "execution_count": null,
      "outputs": []
    },
    {
      "cell_type": "code",
      "metadata": {
        "id": "8VjCUylV-Wyn",
        "colab_type": "code",
        "colab": {}
      },
      "source": [
        "#Some util functions\n",
        "from collections import Counter\n",
        "def entropy( P ) :    \n",
        "    #make sure that the incoming is a probability dist\n",
        "    assert( abs(sum(P) - 1) < 0.0001 ) #sum(P) must be 1; sometimes because of float values it need not be exactly 1\n",
        "    \n",
        "    sum_all = 0\n",
        "    for p in P :\n",
        "        sum_all += -p * np.log2(p) #entropy is the sum of -p*log(p)\n",
        "    \n",
        "    return sum_all\n",
        "\n",
        "def p_from_count( n_count ) :\n",
        "    #print(n_count)\n",
        "    N = sum(n_count)\n",
        "    return [i/N for i in n_count]\n",
        "\n",
        "def p_from_n_items( n_items ) :\n",
        "    \"\"\"count the items and build the probability distribution\"\"\"\n",
        "    c = Counter(n_items)\n",
        "    return p_from_count([c[i] for i in sorted(c.keys())])\n",
        "\n",
        "def p_dict_from_n_items( n_items ) :\n",
        "    \"\"\"return a dict of {class: probability, ...}\"\"\"\n",
        "    c = Counter(n_items)\n",
        "    N = sum(c.values())\n",
        "    p_dict = {label:count/N for label,count in c.items() }\n",
        "    return p_dict\n",
        "\n",
        "def entropy_from_n_items( n_items ) :\n",
        "    \"\"\"entropy form a list like [0,0,1,0,2,2]\"\"\"\n",
        "    return entropy( p_from_n_items( n_items ) )\n",
        "\n",
        "\n",
        "def data_split( X, Y, index_list ) :\n",
        "    \"\"\"Returns new X,Y at the indexs\"\"\"\n",
        "    return X[index_list], Y[index_list] #worls only with numpy arrays\n",
        "\n"
      ],
      "execution_count": 5,
      "outputs": []
    },
    {
      "cell_type": "code",
      "metadata": {
        "id": "mtFCxBGY-cTG",
        "colab_type": "code",
        "colab": {}
      },
      "source": [
        "#we split a continuous variable according to a value in to left and right trees\n",
        "#left branch is < \n",
        "\n",
        "def split_continuous_feature( X, feature_index, split_value ) :\n",
        "    left_index = []\n",
        "    right_index = []\n",
        "    for i,x in enumerate(X) :\n",
        "        if x[ feature_index ] < split_value :\n",
        "            left_index.append(i) #we just store the index of the data points\n",
        "        else :\n",
        "            right_index.append(i)\n",
        "    return left_index, right_index"
      ],
      "execution_count": 3,
      "outputs": []
    },
    {
      "cell_type": "code",
      "metadata": {
        "id": "oFJM0gJ7-haI",
        "colab_type": "code",
        "colab": {}
      },
      "source": [
        "#information gain\n",
        "\n",
        "def information_gain( parent, child_list ) :\n",
        "    \"\"\" parent is the list of y values\n",
        "        child_list is the list of y values for each child node\n",
        "    \"\"\"\n",
        "    parent_entropy = entropy_from_n_items(parent)\n",
        "    #for expectation we need each child probability\n",
        "    child_probability = [ len(c)/len(parent)      for c in child_list]\n",
        "    child_entropy     = [ entropy_from_n_items(c) for c in child_list]\n",
        "    children_expected_entropy = sum( [child_probability[i] * child_entropy[i] for i in range(len(child_list)) ] )\n",
        "    \n",
        "    return parent_entropy - children_expected_entropy"
      ],
      "execution_count": 4,
      "outputs": []
    },
    {
      "cell_type": "code",
      "metadata": {
        "id": "3qhb_3d7-kNU",
        "colab_type": "code",
        "colab": {}
      },
      "source": [
        "X = np.array([ \n",
        "    [1,1,3], \n",
        "    [2,1,5],\n",
        "    [1,2,5],\n",
        "    [3,1,7],\n",
        "    [2,2.5,6],\n",
        "    [3,3,2],\n",
        "])\n",
        "Y = np.array([1,1,1,1,0,0])"
      ],
      "execution_count": 6,
      "outputs": []
    },
    {
      "cell_type": "code",
      "metadata": {
        "id": "xNeSnY1A-uKz",
        "colab_type": "code",
        "colab": {
          "base_uri": "https://localhost:8080/",
          "height": 282
        },
        "outputId": "5a2e6db1-f9db-4e4f-8a58-6904dcbb0eee"
      },
      "source": [
        "plt.scatter(X[:,0], X[:,1], c=Y)"
      ],
      "execution_count": 7,
      "outputs": [
        {
          "output_type": "execute_result",
          "data": {
            "text/plain": [
              "<matplotlib.collections.PathCollection at 0x7f02312ab400>"
            ]
          },
          "metadata": {
            "tags": []
          },
          "execution_count": 7
        },
        {
          "output_type": "display_data",
          "data": {
            "image/png": "[encoded data removed]",
            "text/plain": [
              "<Figure size 432x288 with 1 Axes>"
            ]
          },
          "metadata": {
            "tags": [],
            "needs_background": "light"
          }
        }
      ]
    },
    {
      "cell_type": "code",
      "metadata": {
        "id": "j3x3X_kQ-v-y",
        "colab_type": "code",
        "colab": {
          "base_uri": "https://localhost:8080/",
          "height": 34
        },
        "outputId": "151c55d7-1123-4c7d-ec1e-36a25ed955fc"
      },
      "source": [
        "l_index,r_index =split_continuous_feature(X, feature_index=1, split_value=2.2)\n",
        "L = Y[l_index]\n",
        "R = Y[r_index]\n",
        "information_gain(Y,[L,R])"
      ],
      "execution_count": 8,
      "outputs": [
        {
          "output_type": "execute_result",
          "data": {
            "text/plain": [
              "0.9182958340544896"
            ]
          },
          "metadata": {
            "tags": []
          },
          "execution_count": 8
        }
      ]
    },
    {
      "cell_type": "code",
      "metadata": {
        "id": "i56UG0yh-7lS",
        "colab_type": "code",
        "colab": {}
      },
      "source": [
        "########################################################################"
      ],
      "execution_count": 9,
      "outputs": []
    },
    {
      "cell_type": "code",
      "metadata": {
        "id": "9VZj6hyS_G5I",
        "colab_type": "code",
        "colab": {}
      },
      "source": [
        "def find_IG_of_all_splits(X, Y, feature_index) :\n",
        "    \"\"\"returns the IG of all the splits\"\"\"\n",
        "    ig_list = []\n",
        "    for split_value in X[:,feature_index] : #we split on all the values of this feature\n",
        "        l_index,r_index =split_continuous_feature(X, feature_index, split_value)\n",
        "        L = Y[l_index]\n",
        "        R = Y[r_index]\n",
        "        if len(L) and len(R) :\n",
        "            ig_list.append( information_gain(Y,[L,R]) )\n",
        "        else :\n",
        "            if len(L) :\n",
        "                ig_list.append( information_gain(Y,[L]) )\n",
        "            else :\n",
        "                ig_list.append( information_gain(Y,[R]) ) \n",
        "    return ig_list"
      ],
      "execution_count": 11,
      "outputs": []
    },
    {
      "cell_type": "code",
      "metadata": {
        "id": "FSpbr8ta_IVd",
        "colab_type": "code",
        "colab": {}
      },
      "source": [
        "def find_best_split(X,Y) :\n",
        "    a = []\n",
        "    for feature_index in range(len(X[0])) :\n",
        "        ig = find_IG_of_all_splits(X,Y,feature_index)\n",
        "        max_ig = max(ig)\n",
        "        max_ig_index = ig.index(max_ig)\n",
        "        split_value = X[:,feature_index][max_ig_index]\n",
        "        a.append((max_ig,feature_index,split_value))\n",
        "\n",
        "    return sorted(a)"
      ],
      "execution_count": 12,
      "outputs": []
    },
    {
      "cell_type": "code",
      "metadata": {
        "id": "U4PHMnLV_OGh",
        "colab_type": "code",
        "colab": {}
      },
      "source": [
        "#Tree node\n",
        "class node :\n",
        "    def __init__(self, feature_index, split_value, p_dict) :\n",
        "        self.feature_index = feature_index\n",
        "        self.split_value   = split_value\n",
        "        self.p_dict        = p_dict # { class: probability }\n",
        "        self.L = None  # < split_value\n",
        "        self.R = None  # >= split_value"
      ],
      "execution_count": 13,
      "outputs": []
    },
    {
      "cell_type": "code",
      "metadata": {
        "id": "KHoYu6YY_Qi1",
        "colab_type": "code",
        "colab": {}
      },
      "source": [
        "def build_decision_tree( PX, PY, depth) :\n",
        "    if depth <= 0 :\n",
        "        return None\n",
        "   \n",
        "    _,f,v = find_best_split(PX,PY)[-1]\n",
        "    p = p_dict_from_n_items( PY )\n",
        "    tree = node( f, v, p )\n",
        "    \n",
        "    if len(p.keys()) <= 1 :\n",
        "        return tree #we dont need to split this node\n",
        "        \n",
        "    l_index,r_index =split_continuous_feature(PX, feature_index=f, split_value=v)\n",
        "    if len(l_index) > 0 :\n",
        "        LX, LY = data_split(PX,PY,l_index)\n",
        "        tree.L = build_decision_tree( LX, LY, depth-1 )\n",
        "    \n",
        "    if len(r_index) > 0 :   \n",
        "        RX, RY = data_split(PX,PY,r_index)\n",
        "        tree.R = build_decision_tree( RX, RY, depth-1 )\n",
        "    \n",
        "    return tree"
      ],
      "execution_count": 14,
      "outputs": []
    },
    {
      "cell_type": "code",
      "metadata": {
        "id": "LKJmXF6j_AE5",
        "colab_type": "code",
        "colab": {
          "base_uri": "https://localhost:8080/",
          "height": 333
        },
        "outputId": "6f2a870f-524a-443b-9c9c-3bd6c51b870f"
      },
      "source": [
        "#############################################\n",
        "from sklearn import datasets\n",
        "\n",
        "np.random.seed(5)\n",
        "\n",
        "iris = datasets.load_iris()\n",
        "\n",
        "print(iris.data.shape)\n",
        "print(iris.feature_names)\n",
        "print(iris.target_names)\n",
        "\n",
        "from sklearn.model_selection import train_test_split\n",
        "X_train, X_test, y_train, y_test = train_test_split(iris.data, iris.target, test_size=0.3) # 70% training and 30% test\n",
        "\n",
        "#X = iris.data\n",
        "#Y = iris.target\n",
        "\n",
        "X=X_train\n",
        "Y=y_train\n",
        "\n",
        "plt.scatter(X[:, 2], X[:, 3],\n",
        "               c=Y.astype(np.float), edgecolor='k')"
      ],
      "execution_count": 10,
      "outputs": [
        {
          "output_type": "stream",
          "text": [
            "(150, 4)\n",
            "['sepal length (cm)', 'sepal width (cm)', 'petal length (cm)', 'petal width (cm)']\n",
            "['setosa' 'versicolor' 'virginica']\n"
          ],
          "name": "stdout"
        },
        {
          "output_type": "execute_result",
          "data": {
            "text/plain": [
              "<matplotlib.collections.PathCollection at 0x7f0224d8de48>"
            ]
          },
          "metadata": {
            "tags": []
          },
          "execution_count": 10
        },
        {
          "output_type": "display_data",
          "data": {
            "image/png": "[encoded data removed]",
            "text/plain": [
              "<Figure size 432x288 with 1 Axes>"
            ]
          },
          "metadata": {
            "tags": [],
            "needs_background": "light"
          }
        }
      ]
    },
    {
      "cell_type": "code",
      "metadata": {
        "id": "rDE67r7t_Awe",
        "colab_type": "code",
        "colab": {}
      },
      "source": [
        "tree = build_decision_tree( X, Y, 4)"
      ],
      "execution_count": 15,
      "outputs": []
    },
    {
      "cell_type": "code",
      "metadata": {
        "id": "OCWiZLRB_X4B",
        "colab_type": "code",
        "colab": {}
      },
      "source": [
        "#Work in progress. Just a backup"
      ],
      "execution_count": null,
      "outputs": []
    }
  ]
}