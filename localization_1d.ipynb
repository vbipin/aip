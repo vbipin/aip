{
 "cells": [
  {
   "cell_type": "code",
   "execution_count": 166,
   "metadata": {},
   "outputs": [],
   "source": [
    "import numpy as np\n",
    "import matplotlib.pyplot as plt"
   ]
  },
  {
   "cell_type": "code",
   "execution_count": 167,
   "metadata": {},
   "outputs": [],
   "source": [
    "p_of_sense_door    = 0.8 #probability of sensing a door when there is actualy a door\n",
    "p_of_sense_no_door = 0.6 #probability of sensing correctly there is no door when actully no door\n",
    "def prob_z_given_x(z,x,m):\n",
    "    \"\"\"returns the probability of obeserving z at state x given the map m\"\"\"\n",
    "    #first check if the observation is correct\n",
    "    if m[x] == z : #correct reding either 1, or 0\n",
    "        if z == 1 :\n",
    "            return p_of_sense_door\n",
    "        if z == 0 :\n",
    "            return p_of_sense_no_door\n",
    "    else : #the reading is wrong\n",
    "        if z == 1 :\n",
    "            return 1 - p_of_sense_door\n",
    "        if z == 0 :\n",
    "            return 1 - p_of_sense_no_door"
   ]
  },
  {
   "cell_type": "code",
   "execution_count": 214,
   "metadata": {},
   "outputs": [],
   "source": [
    "#we assume the motion model as\n",
    "move_left  = -1\n",
    "move_right = 1\n",
    "cmd_success = 0.9 #90% of the time the command is a success\n",
    "\n",
    "def prob_x_given_u(u,x,m,bel) :\n",
    "    \"\"\"returns the prob of one state after summing up from previous states\"\"\"\n",
    "    #u can be left or right ie (-1, or +1)\n",
    "    prev_state = (x - u) % len(bel)\n",
    "    #this can happen in two ways for the state x.\n",
    "    #1. move from the previous state\n",
    "    #2. stay in the same place because of cmd_failure\n",
    "    p = (1-cmd_success) * bel[x] #this is case 2\n",
    "    p += cmd_success * bel[prev_state]\n",
    "        \n",
    "    return p"
   ]
  },
  {
   "cell_type": "code",
   "execution_count": 170,
   "metadata": {},
   "outputs": [],
   "source": [
    "def normalize( L ) :\n",
    "    s = sum(L)\n",
    "    return [i/s for i in L]"
   ]
  },
  {
   "cell_type": "code",
   "execution_count": 180,
   "metadata": {},
   "outputs": [],
   "source": [
    "def sense(bel,z,m) :\n",
    "    \"\"\"Adjust the bel according to measurement z and returns the new belief\"\"\"\n",
    "    new_bel = []\n",
    "    for x in range(len(m)) : #for each position\n",
    "        new_bel.append( bel[x] * prob_z_given_x(z,x,m))\n",
    "    #we need to normalize to get the probability dist\n",
    "    #print(new_bel)\n",
    "    return normalize( new_bel ) "
   ]
  },
  {
   "cell_type": "code",
   "execution_count": 209,
   "metadata": {},
   "outputs": [],
   "source": [
    "def move(bel,u,m) :\n",
    "    \"\"\"calculates the belief after the move\"\"\"\n",
    "    new_bel = []\n",
    "    for x in range(len(m)) : #for each position\n",
    "        new_bel.append( prob_x_given_u(u,x,m,bel) )\n",
    "    #this is already normalized\n",
    "    return new_bel"
   ]
  },
  {
   "cell_type": "code",
   "execution_count": 210,
   "metadata": {},
   "outputs": [],
   "source": [
    "world_map = [ 0, 0, 1, 0, 1 ]\n",
    "N = len(world_map)\n",
    "\n",
    "bel = [1/N, 1/N, 1/N, 1/N, 1/N]"
   ]
  },
  {
   "cell_type": "code",
   "execution_count": 211,
   "metadata": {},
   "outputs": [
    {
     "data": {
      "text/plain": [
       "[0.23076923076923075,\n",
       " 0.23076923076923075,\n",
       " 0.15384615384615388,\n",
       " 0.23076923076923075,\n",
       " 0.15384615384615388]"
      ]
     },
     "execution_count": 211,
     "metadata": {},
     "output_type": "execute_result"
    }
   ],
   "source": [
    "bel = sense(bel,0,world_map)\n",
    "bel"
   ]
  },
  {
   "cell_type": "code",
   "execution_count": 218,
   "metadata": {},
   "outputs": [
    {
     "data": {
      "text/plain": [
       "[0.1762048192771084,\n",
       " 0.19789156626506021,\n",
       " 0.2614457831325301,\n",
       " 0.1762048192771084,\n",
       " 0.18825301204819275]"
      ]
     },
     "execution_count": 218,
     "metadata": {},
     "output_type": "execute_result"
    }
   ],
   "source": [
    "bel = move(bel,move_right,world_map)\n",
    "bel"
   ]
  },
  {
   "cell_type": "code",
   "execution_count": 219,
   "metadata": {},
   "outputs": [
    {
     "data": {
      "text/plain": [
       "[0.07500961661751504,\n",
       " 0.08424156943197843,\n",
       " 0.44518528016412356,\n",
       " 0.07500961661751504,\n",
       " 0.32055391716886783]"
      ]
     },
     "execution_count": 219,
     "metadata": {},
     "output_type": "execute_result"
    }
   ],
   "source": [
    "bel = sense(bel,1,world_map)\n",
    "bel"
   ]
  },
  {
   "cell_type": "code",
   "execution_count": null,
   "metadata": {},
   "outputs": [],
   "source": []
  }
 ],
 "metadata": {
  "kernelspec": {
   "display_name": "Python 3",
   "language": "python",
   "name": "python3"
  },
  "language_info": {
   "codemirror_mode": {
    "name": "ipython",
    "version": 3
   },
   "file_extension": ".py",
   "mimetype": "text/x-python",
   "name": "python",
   "nbconvert_exporter": "python",
   "pygments_lexer": "ipython3",
   "version": "3.7.0"
  }
 },
 "nbformat": 4,
 "nbformat_minor": 2
}
